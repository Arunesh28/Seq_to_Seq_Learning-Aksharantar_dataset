{
  "cells": [
    {
      "cell_type": "code",
      "execution_count": 86,
      "metadata": {
        "id": "_XMtpZKWB6IS"
      },
      "outputs": [],
      "source": [
        "import numpy as np\n",
        "import pandas as pd\n",
        "import random\n",
        "import torch\n",
        "import torch.nn as nn\n",
        "import torch.optim as optim\n",
        "import torch.nn.functional as F\n",
        "import random\n",
        "import wandb"
      ]
    },
    {
      "cell_type": "code",
      "execution_count": 87,
      "metadata": {
        "colab": {
          "base_uri": "https://localhost:8080/"
        },
        "id": "-2XFj4FB_8QJ",
        "outputId": "249179fa-19ab-4e34-dc72-794016738e3b"
      },
      "outputs": [],
      "source": [
        "# from google.colab import drive\n",
        "# drive.mount('/content/gdrive')"
      ]
    },
    {
      "cell_type": "code",
      "execution_count": 88,
      "metadata": {
        "id": "BvtANBSb_-EJ"
      },
      "outputs": [],
      "source": [
        "# !unzip /content/gdrive/MyDrive/aksharantar_sampled.zip > /dev/null"
      ]
    },
    {
      "cell_type": "code",
      "execution_count": 89,
      "metadata": {
        "id": "RAtFonmF8mnI"
      },
      "outputs": [],
      "source": [
        "USE_CUDA = False"
      ]
    },
    {
      "cell_type": "code",
      "execution_count": 90,
      "metadata": {},
      "outputs": [],
      "source": [
        "OUTPUT_LANGUAGE = 'mni'\n",
        "MAX_WORD_LENGTH = 25"
      ]
    },
    {
      "attachments": {},
      "cell_type": "markdown",
      "metadata": {
        "id": "RjJtGtexp-MH"
      },
      "source": [
        "## READING DATA"
      ]
    },
    {
      "cell_type": "code",
      "execution_count": 91,
      "metadata": {
        "id": "TO74AFzFpNvT"
      },
      "outputs": [],
      "source": [
        "'''\n",
        "Below train, validation and test data are list of strings\n",
        "'''\n",
        "train_data=pd.read_csv('aksharantar_sampled/'+OUTPUT_LANGUAGE+'/'+OUTPUT_LANGUAGE+'_train.csv',header=None)\n",
        "X_train = list(train_data[0])\n",
        "Y_train = list(train_data[1])\n",
        "\n",
        "validation_data=pd.read_csv('aksharantar_sampled/'+OUTPUT_LANGUAGE+'/'+OUTPUT_LANGUAGE+'_valid.csv',header=None)\n",
        "X_valid = list(validation_data[0])\n",
        "Y_valid = list(validation_data[1])\n",
        "\n",
        "test_data=pd.read_csv('aksharantar_sampled/'+OUTPUT_LANGUAGE+'/'+OUTPUT_LANGUAGE+'_test.csv',header=None)\n",
        "X_test = list(test_data[0])\n",
        "Y_test = list(test_data[1])"
      ]
    },
    {
      "cell_type": "code",
      "execution_count": 92,
      "metadata": {},
      "outputs": [],
      "source": [
        "SOS_token = 0\n",
        "EOS_token = 1\n",
        "UNK_TOKEN = 2\n",
        "# ND_TOKEN = \n",
        "class Lang:\n",
        "    def __init__(self, name):\n",
        "        self.name = name\n",
        "        self.chr2index = {}\n",
        "        self.chr2count = {}\n",
        "        # self.index2chr = {0: \"$\", 1: \"*\", 2: \"_\"}\n",
        "        self.index2chr = {0: \"$\", 1: \"*\"}\n",
        "        self.n_chrs = 2  # 3 if Count SOS and EOS and UNK\n",
        "\n",
        "    def addword(self, word):\n",
        "        for letter in word:\n",
        "            self.addchr(letter)\n",
        "\n",
        "    def addchr(self, chr_):\n",
        "        if chr_ not in self.chr2index:\n",
        "            self.chr2index[chr_] = self.n_chrs\n",
        "            self.chr2count[chr_] = 1\n",
        "            self.index2chr[self.n_chrs] = chr_\n",
        "            self.n_chrs += 1\n",
        "        else:\n",
        "            self.chr2count[chr_] += 1\n",
        "            \n",
        "    def add_word_list(self,word_lst):\n",
        "        for word in word_lst:\n",
        "            self.addword(word)"
      ]
    },
    {
      "cell_type": "code",
      "execution_count": 93,
      "metadata": {},
      "outputs": [],
      "source": [
        "inp_lang = Lang(\"eng\")\n",
        "inp_lang.add_word_list(X_train)\n",
        "\n",
        "out_lang = Lang(OUTPUT_LANGUAGE)\n",
        "out_lang.add_word_list(Y_train)\n"
      ]
    },
    {
      "attachments": {},
      "cell_type": "markdown",
      "metadata": {
        "id": "fCpYM7uh22Ir"
      },
      "source": [
        "## DATA PROCESSING"
      ]
    },
    {
      "cell_type": "code",
      "execution_count": 94,
      "metadata": {
        "id": "SrltDzm5mMwP"
      },
      "outputs": [],
      "source": [
        "\n",
        "def get_one_hot(char_dict,ch,len_alphabets):\n",
        "  return char_dict[ch]\n",
        "\n",
        "def data_processing(data,char_dict,len_chrs):\n",
        "  ONE_HOT = []\n",
        "  for word in data :\n",
        "    encoded_word = [get_one_hot(char_dict,i,len_chrs) for i in word]\n",
        "    encoded_word.append(EOS_token)\n",
        "    encoded_word = torch.LongTensor(encoded_word)\n",
        "    ONE_HOT.append(encoded_word)\n",
        "  return ONE_HOT"
      ]
    },
    {
      "attachments": {},
      "cell_type": "markdown",
      "metadata": {
        "id": "Pc1uE0ahwa77"
      },
      "source": [
        "$ - Start Character \\\\\n",
        "\\* - End Character"
      ]
    },
    {
      "cell_type": "code",
      "execution_count": 95,
      "metadata": {
        "id": "w_tzl6_FT23B"
      },
      "outputs": [
        {
          "name": "stdout",
          "output_type": "stream",
          "text": [
            "28\n",
            "46\n"
          ]
        }
      ],
      "source": [
        "INP_LANG_SIZE = inp_lang.n_chrs\n",
        "OUT_LANG_SIZE = out_lang.n_chrs\n",
        "print(INP_LANG_SIZE)\n",
        "print(OUT_LANG_SIZE)"
      ]
    },
    {
      "cell_type": "code",
      "execution_count": 96,
      "metadata": {
        "id": "fK9M6b07xDox"
      },
      "outputs": [],
      "source": [
        "# # These are lists of tensors corresponding to each word\n",
        "inp_train = data_processing(X_train,inp_lang.chr2index,len(inp_lang.chr2index))\n",
        "tgt_train = data_processing(Y_train,out_lang.chr2index,len(out_lang.chr2index))\n",
        "inp_valid = data_processing(X_valid,inp_lang.chr2index,len(inp_lang.chr2index))\n",
        "tgt_valid = data_processing(Y_valid,out_lang.chr2index,len(out_lang.chr2index))\n",
        "inp_test = data_processing(X_test,inp_lang.chr2index,len(inp_lang.chr2index))\n",
        "tgt_test = data_processing(Y_test,out_lang.chr2index,len(out_lang.chr2index))"
      ]
    },
    {
      "cell_type": "code",
      "execution_count": 97,
      "metadata": {
        "id": "khab_aFEdFgm"
      },
      "outputs": [],
      "source": [
        "# print(max([len(X_train[i]) for i in range(len(X_train))]))\n",
        "# print(max([len(X_test[i]) for i in range(len(X_test))]))\n",
        "# print(max([len(X_valid[i]) for i in range(len(X_valid))]))\n",
        "# print(max([len(Y_train[i]) for i in range(len(Y_train))]))\n",
        "# print(max([len(Y_test[i]) for i in range(len(Y_test))]))\n",
        "# print(max([len(Y_valid[i]) for i in range(len(Y_valid))]))"
      ]
    },
    {
      "attachments": {},
      "cell_type": "markdown",
      "metadata": {
        "id": "NYGk6k9B274a"
      },
      "source": [
        "## ENCODER"
      ]
    },
    {
      "cell_type": "code",
      "execution_count": 98,
      "metadata": {
        "id": "6WNDRGpjGs16"
      },
      "outputs": [],
      "source": [
        "class Encoder(nn.Module):\n",
        "    def __init__(self, input_size, embedding_size, hidden_layer_size, num_encoder_layers, cell_type, dropout_prob, bidirectional):\n",
        "      super(Encoder, self).__init__()\n",
        "      '''\n",
        "        self.input_size : int\n",
        "        self.hidden_layer_size : int\n",
        "        self.num_encoder_layers : int\n",
        "        self.cell_type : string\n",
        "      '''\n",
        "      self.input_size = input_size\n",
        "      self.hidden_layer_size = hidden_layer_size\n",
        "      self.num_encoder_layers = num_encoder_layers\n",
        "      self.cell_type = cell_type\n",
        "\n",
        "      self.embedding = nn.Embedding(self.input_size, embedding_size)\n",
        "\n",
        "      if cell_type == 'RNN':\n",
        "        self.rnn = nn.RNN(input_size = embedding_size, hidden_size = hidden_layer_size, num_layers = num_encoder_layers, dropout = dropout_prob, bidirectional = bidirectional)\n",
        "      elif cell_type == 'LSTM':\n",
        "        self.rnn = nn.LSTM(input_size = embedding_size, hidden_size = hidden_layer_size, num_layers = num_encoder_layers, dropout = dropout_prob, bidirectional = bidirectional)\n",
        "      elif cell_type == 'GRU':\n",
        "        self.rnn = nn.GRU(input_size = embedding_size, hidden_size = hidden_layer_size, num_layers = num_encoder_layers, dropout = dropout_prob, bidirectional = bidirectional)\n",
        "      self.dropout = nn.Dropout(dropout_prob)\n",
        "      self.D = 1\n",
        "      if bidirectional == True :\n",
        "        self.D = 2\n",
        "\n",
        "    def forward(self, input, prev_hidden, prev_cell = None):\n",
        "      seq_len = len(input)\n",
        "      embedded = self.embedding(input)\n",
        "      embedded = embedded.view(seq_len,1,-1)\n",
        "      embedded = self.dropout(embedded)\n",
        "      if self.cell_type == 'RNN':\n",
        "        output, hidden = self.rnn(embedded,prev_hidden)\n",
        "        \n",
        "      elif self.cell_type == 'LSTM':\n",
        "        output, (hidden,cell) = self.rnn(embedded,(prev_hidden,prev_cell))\n",
        "        return output, (hidden,cell)\n",
        "      \n",
        "      elif self.cell_type == 'GRU':\n",
        "        output, hidden = self.rnn(embedded,prev_hidden)\n",
        "        \n",
        "      return output,hidden\n",
        "\n",
        "    def init_hidden(self):\n",
        "      \n",
        "      if self.cell_type == 'LSTM':\n",
        "        hidden = torch.zeros(self.D*self.num_encoder_layers,1,self.hidden_layer_size)\n",
        "        cell = torch.zeros(self.D*self.num_encoder_layers,1,self.hidden_layer_size)\n",
        "        return hidden,cell\n",
        "      else :\n",
        "        hidden = torch.zeros(self.D*self.num_encoder_layers,1,self.hidden_layer_size)\n",
        "      return hidden\n"
      ]
    },
    {
      "attachments": {},
      "cell_type": "markdown",
      "metadata": {
        "id": "5gjv22ej2-cB"
      },
      "source": [
        "## DECODER"
      ]
    },
    {
      "cell_type": "code",
      "execution_count": 99,
      "metadata": {
        "id": "afYWn2_zLtUn"
      },
      "outputs": [],
      "source": [
        "# class Decoder\n",
        "\n",
        "class Decoder(nn.Module):\n",
        "  def __init__(self, output_size, embedding_size, hidden_layer_size, num_layers, cell_type, dropout_prob, bidirectional):\n",
        "    super(Decoder, self).__init__()\n",
        "    '''\n",
        "      self.output_size : int\n",
        "      self.hidden_layer_size : int\n",
        "      self.num_encoder_layers : int\n",
        "      self.cell_type : string\n",
        "      self.rnn : RNN,LSTM,GRU \n",
        "    '''\n",
        "    self.output_size = output_size\n",
        "    self.hidden_layer_size = hidden_layer_size\n",
        "    self.num_layers = num_layers\n",
        "    self.cell_type = cell_type\n",
        "    self.embedding_size = embedding_size\n",
        "    self.embedding = nn.Embedding(OUT_LANG_SIZE, embedding_size)\n",
        "\n",
        "    if cell_type == 'RNN':\n",
        "      self.rnn = nn.RNN(input_size = embedding_size, hidden_size = hidden_layer_size, num_layers = num_layers, dropout = dropout_prob, bidirectional = bidirectional)\n",
        "    elif cell_type == 'LSTM':\n",
        "      self.rnn = nn.LSTM(input_size = embedding_size, hidden_size = hidden_layer_size, num_layers = num_layers, dropout = dropout_prob, bidirectional = bidirectional)\n",
        "    elif cell_type == 'GRU':\n",
        "      self.rnn = nn.GRU(input_size = embedding_size, hidden_size = hidden_layer_size, num_layers = num_layers, dropout = dropout_prob, bidirectional = bidirectional)\n",
        "\n",
        "    self.dropout = nn.Dropout(dropout_prob)\n",
        "    self.fc = nn.Linear(hidden_layer_size, output_size)\n",
        "    self.softmax = nn.LogSoftmax(dim = 1)\n",
        "      \n",
        "  def forward(self, input, prev_hidden, prev_cell = None):\n",
        "    embedded = self.embedding(input)\n",
        "    embedded = embedded.view(1,1,-1)\n",
        "    embedded = F.relu(embedded)\n",
        "    embedded = self.dropout(embedded)\n",
        "    \n",
        "    if self.cell_type == 'RNN':\n",
        "      output, hidden = self.rnn(embedded,prev_hidden)\n",
        "      \n",
        "    elif self.cell_type == 'LSTM':\n",
        "      output,(hidden,cell) = self.rnn(embedded,(prev_hidden,prev_cell))\n",
        "    \n",
        "    elif self.cell_type == 'GRU':\n",
        "      output, hidden = self.rnn(embedded,prev_hidden)\n",
        "      \n",
        "    output = self.fc(output)\n",
        "    y_pred = self.softmax(output)\n",
        "    \n",
        "    if self.cell_type == 'LSTM':\n",
        "      return y_pred,(hidden,cell)\n",
        "    \n",
        "    return y_pred, hidden"
      ]
    },
    {
      "attachments": {},
      "cell_type": "markdown",
      "metadata": {
        "id": "SdVuHQkC3AEW"
      },
      "source": [
        "## SEQ2SEQ"
      ]
    },
    {
      "cell_type": "code",
      "execution_count": 100,
      "metadata": {
        "id": "K2kSt-oOLutP"
      },
      "outputs": [],
      "source": [
        "\n",
        "\n",
        "class Seq2Seq(nn.Module):\n",
        "  def __init__(self, encoder, decoder, learning_rate, clip = 5.0, teacher_forcing_ratio = 0.5):\n",
        "    super(Seq2Seq, self).__init__()\n",
        "    self.encoder = encoder\n",
        "    self.decoder = decoder\n",
        "    self.teacher_forcing_ratio = teacher_forcing_ratio\n",
        "    self.encoder_optimizer = optim.Adam(self.encoder.parameters(), lr = learning_rate)\n",
        "    self.decoder_optimizer = optim.Adam(self.decoder.parameters(), lr = learning_rate)\n",
        "    self.encoder_optimizer.zero_grad()\n",
        "    self.decoder_optimizer.zero_grad()\n",
        "    self.criterion = nn.NLLLoss()\n",
        "    self.clip = clip\n",
        "    self.teacher_forcing_ratio = teacher_forcing_ratio\n",
        "    # self.batch_size = batch_size\n",
        "      \n",
        "  def forward(self, input, target):\n",
        "    inp_len = input.size()[0]\n",
        "    tgt_len = target.size()[0]\n",
        "    loss = 0\n",
        "    '''\n",
        "    input : seq_length_inp\n",
        "    target : seq_length_tgt\n",
        "    '''\n",
        "    self.encoder_optimizer.zero_grad()\n",
        "    self.decoder_optimizer.zero_grad()\n",
        "    \n",
        "    # Encoder\n",
        "    if self.encoder.cell_type == 'LSTM':\n",
        "      encoder_hidden,encoder_cell = self.encoder.init_hidden()\n",
        "      encoder_outputs,(encoder_hidden,encoder_cell) = self.encoder(input = input,prev_hidden = encoder_hidden,prev_cell = encoder_cell)\n",
        "    else :\n",
        "      encoder_hidden = self.encoder.init_hidden()\n",
        "      encoder_outputs,encoder_hidden = self.encoder(input,encoder_hidden)\n",
        "\n",
        "    # Decoder\n",
        "    decoder_input = torch.LongTensor([[SOS_token]])\n",
        "    decoder_hidden = encoder_hidden\n",
        "    \n",
        "    if self.decoder.cell_type == 'LSTM':\n",
        "      decoder_cell = encoder_cell\n",
        "      \n",
        "    # With Teacher Forcing\n",
        "    use_teacher_forcing = random.random() < self.teacher_forcing_ratio\n",
        "    if use_teacher_forcing:\n",
        "      for i in range(tgt_len):\n",
        "        if self.decoder.cell_type == 'LSTM':\n",
        "          decoder_output,(decoder_hidden,decoder_cell) = self.decoder(input = decoder_input,prev_hidden = decoder_hidden,prev_cell = decoder_cell)\n",
        "        else:\n",
        "          decoder_output,decoder_hidden = self.decoder(decoder_input,decoder_hidden)\n",
        "        loss += self.criterion(decoder_output.view(-1),target[i])\n",
        "        decoder_input = target[i]\n",
        "    else :\n",
        "      for i in range(tgt_len):\n",
        "        if self.decoder.cell_type == 'LSTM':\n",
        "          decoder_output,(decoder_hidden,decoder_cell) = self.decoder(input = decoder_input,prev_hidden = decoder_hidden,prev_cell = decoder_cell)\n",
        "        else:\n",
        "          decoder_output,decoder_hidden = self.decoder(decoder_input,decoder_hidden)\n",
        "        loss += self.criterion(decoder_output.view(-1),target[i])\n",
        "        topv,topi = decoder_output.view(-1).topk(1)\n",
        "        ni = topi[0]\n",
        "        decoder_input = torch.LongTensor([[ni]])\n",
        "        if ni == EOS_token : \n",
        "          break\n",
        "    loss.backward()\n",
        "    torch.nn.utils.clip_grad_norm_(self.encoder.parameters(), self.clip)\n",
        "    torch.nn.utils.clip_grad_norm_(self.decoder.parameters(), self.clip)\n",
        "    self.encoder_optimizer.step()\n",
        "    self.decoder_optimizer.step()\n",
        "    return loss/tgt_len\n",
        "\n",
        "  def predict(self,input):\n",
        "    inp_len = input.size()[0]\n",
        "    encoder_hidden = self.encoder.init_hidden()\n",
        "    encoder_outputs,encoder_hidden = self.encoder(input,encoder_hidden)\n",
        "    loss = 0\n",
        "    decoder_input = torch.LongTensor([[SOS_token]])\n",
        "    decoder_hidden = encoder_hidden\n",
        "\n",
        "    decoded_words = []\n",
        "    decoder_outputs = []\n",
        "    pred_word = ''\n",
        "    for i in range(MAX_WORD_LENGTH):\n",
        "      decoder_output,decoder_hidden = self.decoder(decoder_input,decoder_hidden)\n",
        "      decoder_outputs.append(decoder_output)\n",
        "      topv,topi = decoder_output.view(-1).topk(1)\n",
        "      ni = topi[0]\n",
        "      \n",
        "      decoder_input = torch.LongTensor([[ni]])\n",
        "      decoded_words.append(ni)\n",
        "      pred_word += out_lang.index2chr[ni.item()]\n",
        "      if ni == EOS_token : \n",
        "        break\n",
        "      \n",
        "    return [torch.LongTensor(decoded_words),pred_word,torch.stack(decoder_outputs)]\n"
      ]
    },
    {
      "cell_type": "code",
      "execution_count": null,
      "metadata": {
        "id": "OYxHfVnivOge"
      },
      "outputs": [],
      "source": [
        "\n",
        "def train_once(model):\n",
        "  # Trains once on the whole dataset\n",
        "  training_loss = 0\n",
        "  train_length = len(inp_train)\n",
        "  for i in range(train_length):\n",
        "    input_tensor = inp_train[i]\n",
        "    target_tensor = tgt_train[i]\n",
        "    loss = model(input_tensor,target_tensor)\n",
        "    training_loss += loss\n",
        "    if i%200 == 0:\n",
        "      print(i)  \n",
        "  return training_loss\n",
        "\n",
        "def accuracy_score(pred,actual):\n",
        "  # pred,actual : list of strings/words\n",
        "  return np.sum(np.array(pred) == np.array(actual))/len(pred)\n",
        "\n",
        "def eval_acc_loss(model):\n",
        "  train_pred_ = [model.predict(i) for i in inp_train]\n",
        "  valid_pred_ = [model.predict(i) for i in inp_valid]\n",
        "  \n",
        "  train_pred = list(map(list, zip(*train_pred_)))[1]\n",
        "  valid_pred = list(map(list, zip(*valid_pred_)))[1]\n",
        "  \n",
        "  train_accuracy = accuracy_score(train_pred,Y_train)\n",
        "  valid_accuracy = accuracy_score(valid_pred,Y_valid)\n",
        "  return train_accuracy,valid_accuracy\n",
        "\n",
        "def train(model,epochs):\n",
        "  for curr_epoch in range(epochs):\n",
        "    train_loss = train_once(model)\n",
        "    # train_accuracy,valid_accuracy,train_loss_,valid_loss = eval_acc_loss(model)\n",
        "    # print(\"Epoch : %d, Training Loss : %f, Training Accuracy : %f\" % (curr_epoch+1,train_loss,train_accuracy))\n",
        "    print(\"Epoch : %d, Training Loss : %f\" % (curr_epoch+1,train_loss))\n",
        "    \n",
        "    # wandb.log({ \"training_accuracy\" : train_accuracy,\n",
        "    #           \"validation_accuracy\" : valid_accuracy,\n",
        "    #           \"training_loss\" : train_loss,\n",
        "    #           \"validation_loss\" : valid_loss,\n",
        "    #           \"epoch\" : curr_epoch+1})\n"
      ]
    },
    {
      "attachments": {},
      "cell_type": "markdown",
      "metadata": {
        "id": "9H3ipiJ3-ETv"
      },
      "source": [
        "## Run"
      ]
    },
    {
      "cell_type": "code",
      "execution_count": 102,
      "metadata": {
        "id": "BSYSelQ7dG3y"
      },
      "outputs": [
        {
          "name": "stdout",
          "output_type": "stream",
          "text": [
            "0\n",
            "200\n",
            "400\n",
            "600\n",
            "800\n",
            "1000\n",
            "1200\n",
            "1400\n",
            "1600\n",
            "1800\n",
            "2000\n",
            "2200\n",
            "2400\n",
            "2600\n",
            "2800\n",
            "3000\n",
            "3200\n",
            "3400\n",
            "3600\n",
            "3800\n",
            "4000\n",
            "4200\n",
            "4400\n",
            "4600\n",
            "4800\n",
            "5000\n",
            "5200\n",
            "5400\n",
            "5600\n",
            "5800\n",
            "6000\n",
            "6200\n",
            "6400\n",
            "6600\n",
            "6800\n",
            "7000\n",
            "7200\n",
            "7400\n",
            "7600\n",
            "7800\n",
            "8000\n",
            "8200\n",
            "8400\n",
            "8600\n",
            "8800\n",
            "9000\n",
            "9200\n",
            "9400\n",
            "9600\n",
            "9800\n",
            "10000\n",
            "Epoch : 1, Training Loss : 0.000000\n",
            "0\n",
            "200\n",
            "400\n",
            "600\n",
            "800\n",
            "1000\n",
            "1200\n",
            "1400\n",
            "1600\n",
            "1800\n",
            "2000\n",
            "2200\n",
            "2400\n",
            "2600\n",
            "2800\n",
            "3000\n",
            "3200\n",
            "3400\n",
            "3600\n",
            "3800\n",
            "4000\n",
            "4200\n",
            "4400\n",
            "4600\n",
            "4800\n",
            "5000\n",
            "5200\n"
          ]
        },
        {
          "ename": "KeyboardInterrupt",
          "evalue": "",
          "output_type": "error",
          "traceback": [
            "\u001b[0;31m---------------------------------------------------------------------------\u001b[0m",
            "\u001b[0;31mKeyboardInterrupt\u001b[0m                         Traceback (most recent call last)",
            "Cell \u001b[0;32mIn[102], line 15\u001b[0m\n\u001b[1;32m     13\u001b[0m decoder \u001b[39m=\u001b[39m Decoder(output_size, embedding_size, hidden_layer_size, num_layers, cell_type, dropout_prob, bidirectional)\n\u001b[1;32m     14\u001b[0m model \u001b[39m=\u001b[39m Seq2Seq(encoder,decoder,learning_rate)\n\u001b[0;32m---> 15\u001b[0m train(model,epochs)\n",
            "Cell \u001b[0;32mIn[101], line 31\u001b[0m, in \u001b[0;36mtrain\u001b[0;34m(model, epochs)\u001b[0m\n\u001b[1;32m     29\u001b[0m \u001b[39mdef\u001b[39;00m \u001b[39mtrain\u001b[39m(model,epochs):\n\u001b[1;32m     30\u001b[0m   \u001b[39mfor\u001b[39;00m curr_epoch \u001b[39min\u001b[39;00m \u001b[39mrange\u001b[39m(epochs):\n\u001b[0;32m---> 31\u001b[0m     train_loss \u001b[39m=\u001b[39m train_once(model)\n\u001b[1;32m     32\u001b[0m     \u001b[39m# train_accuracy,valid_accuracy,train_loss_,valid_loss = eval_acc_loss(model)\u001b[39;00m\n\u001b[1;32m     33\u001b[0m     \u001b[39m# print(\"Epoch : %d, Training Loss : %f, Training Accuracy : %f\" % (curr_epoch+1,train_loss,train_accuracy))\u001b[39;00m\n\u001b[1;32m     34\u001b[0m     \u001b[39mprint\u001b[39m(\u001b[39m\"\u001b[39m\u001b[39mEpoch : \u001b[39m\u001b[39m%d\u001b[39;00m\u001b[39m, Training Loss : \u001b[39m\u001b[39m%f\u001b[39;00m\u001b[39m\"\u001b[39m \u001b[39m%\u001b[39m (curr_epoch\u001b[39m+\u001b[39m\u001b[39m1\u001b[39m,train_loss))\n",
            "Cell \u001b[0;32mIn[101], line 8\u001b[0m, in \u001b[0;36mtrain_once\u001b[0;34m(model)\u001b[0m\n\u001b[1;32m      6\u001b[0m input_tensor \u001b[39m=\u001b[39m inp_train[i]\n\u001b[1;32m      7\u001b[0m target_tensor \u001b[39m=\u001b[39m tgt_train[i]\n\u001b[0;32m----> 8\u001b[0m loss \u001b[39m=\u001b[39m model(input_tensor,target_tensor)\n\u001b[1;32m      9\u001b[0m training_loss \u001b[39m+\u001b[39m\u001b[39m=\u001b[39m loss\n\u001b[1;32m     10\u001b[0m \u001b[39mif\u001b[39;00m i\u001b[39m%\u001b[39m\u001b[39m200\u001b[39m \u001b[39m==\u001b[39m \u001b[39m0\u001b[39m:\n",
            "File \u001b[0;32m~/.local/lib/python3.8/site-packages/torch/nn/modules/module.py:1501\u001b[0m, in \u001b[0;36mModule._call_impl\u001b[0;34m(self, *args, **kwargs)\u001b[0m\n\u001b[1;32m   1496\u001b[0m \u001b[39m# If we don't have any hooks, we want to skip the rest of the logic in\u001b[39;00m\n\u001b[1;32m   1497\u001b[0m \u001b[39m# this function, and just call forward.\u001b[39;00m\n\u001b[1;32m   1498\u001b[0m \u001b[39mif\u001b[39;00m \u001b[39mnot\u001b[39;00m (\u001b[39mself\u001b[39m\u001b[39m.\u001b[39m_backward_hooks \u001b[39mor\u001b[39;00m \u001b[39mself\u001b[39m\u001b[39m.\u001b[39m_backward_pre_hooks \u001b[39mor\u001b[39;00m \u001b[39mself\u001b[39m\u001b[39m.\u001b[39m_forward_hooks \u001b[39mor\u001b[39;00m \u001b[39mself\u001b[39m\u001b[39m.\u001b[39m_forward_pre_hooks\n\u001b[1;32m   1499\u001b[0m         \u001b[39mor\u001b[39;00m _global_backward_pre_hooks \u001b[39mor\u001b[39;00m _global_backward_hooks\n\u001b[1;32m   1500\u001b[0m         \u001b[39mor\u001b[39;00m _global_forward_hooks \u001b[39mor\u001b[39;00m _global_forward_pre_hooks):\n\u001b[0;32m-> 1501\u001b[0m     \u001b[39mreturn\u001b[39;00m forward_call(\u001b[39m*\u001b[39;49margs, \u001b[39m*\u001b[39;49m\u001b[39m*\u001b[39;49mkwargs)\n\u001b[1;32m   1502\u001b[0m \u001b[39m# Do not call functions when jit is used\u001b[39;00m\n\u001b[1;32m   1503\u001b[0m full_backward_hooks, non_full_backward_hooks \u001b[39m=\u001b[39m [], []\n",
            "Cell \u001b[0;32mIn[100], line 64\u001b[0m, in \u001b[0;36mSeq2Seq.forward\u001b[0;34m(self, input, target)\u001b[0m\n\u001b[1;32m     62\u001b[0m     \u001b[39mif\u001b[39;00m ni \u001b[39m==\u001b[39m EOS_token : \n\u001b[1;32m     63\u001b[0m       \u001b[39mbreak\u001b[39;00m\n\u001b[0;32m---> 64\u001b[0m loss\u001b[39m.\u001b[39;49mbackward()\n\u001b[1;32m     65\u001b[0m torch\u001b[39m.\u001b[39mnn\u001b[39m.\u001b[39mutils\u001b[39m.\u001b[39mclip_grad_norm_(\u001b[39mself\u001b[39m\u001b[39m.\u001b[39mencoder\u001b[39m.\u001b[39mparameters(), \u001b[39mself\u001b[39m\u001b[39m.\u001b[39mclip)\n\u001b[1;32m     66\u001b[0m torch\u001b[39m.\u001b[39mnn\u001b[39m.\u001b[39mutils\u001b[39m.\u001b[39mclip_grad_norm_(\u001b[39mself\u001b[39m\u001b[39m.\u001b[39mdecoder\u001b[39m.\u001b[39mparameters(), \u001b[39mself\u001b[39m\u001b[39m.\u001b[39mclip)\n",
            "File \u001b[0;32m~/.local/lib/python3.8/site-packages/torch/_tensor.py:487\u001b[0m, in \u001b[0;36mTensor.backward\u001b[0;34m(self, gradient, retain_graph, create_graph, inputs)\u001b[0m\n\u001b[1;32m    477\u001b[0m \u001b[39mif\u001b[39;00m has_torch_function_unary(\u001b[39mself\u001b[39m):\n\u001b[1;32m    478\u001b[0m     \u001b[39mreturn\u001b[39;00m handle_torch_function(\n\u001b[1;32m    479\u001b[0m         Tensor\u001b[39m.\u001b[39mbackward,\n\u001b[1;32m    480\u001b[0m         (\u001b[39mself\u001b[39m,),\n\u001b[0;32m   (...)\u001b[0m\n\u001b[1;32m    485\u001b[0m         inputs\u001b[39m=\u001b[39minputs,\n\u001b[1;32m    486\u001b[0m     )\n\u001b[0;32m--> 487\u001b[0m torch\u001b[39m.\u001b[39;49mautograd\u001b[39m.\u001b[39;49mbackward(\n\u001b[1;32m    488\u001b[0m     \u001b[39mself\u001b[39;49m, gradient, retain_graph, create_graph, inputs\u001b[39m=\u001b[39;49minputs\n\u001b[1;32m    489\u001b[0m )\n",
            "File \u001b[0;32m~/.local/lib/python3.8/site-packages/torch/autograd/__init__.py:200\u001b[0m, in \u001b[0;36mbackward\u001b[0;34m(tensors, grad_tensors, retain_graph, create_graph, grad_variables, inputs)\u001b[0m\n\u001b[1;32m    195\u001b[0m     retain_graph \u001b[39m=\u001b[39m create_graph\n\u001b[1;32m    197\u001b[0m \u001b[39m# The reason we repeat same the comment below is that\u001b[39;00m\n\u001b[1;32m    198\u001b[0m \u001b[39m# some Python versions print out the first line of a multi-line function\u001b[39;00m\n\u001b[1;32m    199\u001b[0m \u001b[39m# calls in the traceback and some print out the last line\u001b[39;00m\n\u001b[0;32m--> 200\u001b[0m Variable\u001b[39m.\u001b[39;49m_execution_engine\u001b[39m.\u001b[39;49mrun_backward(  \u001b[39m# Calls into the C++ engine to run the backward pass\u001b[39;49;00m\n\u001b[1;32m    201\u001b[0m     tensors, grad_tensors_, retain_graph, create_graph, inputs,\n\u001b[1;32m    202\u001b[0m     allow_unreachable\u001b[39m=\u001b[39;49m\u001b[39mTrue\u001b[39;49;00m, accumulate_grad\u001b[39m=\u001b[39;49m\u001b[39mTrue\u001b[39;49;00m)\n",
            "\u001b[0;31mKeyboardInterrupt\u001b[0m: "
          ]
        }
      ],
      "source": [
        "# define hyperparameters\n",
        "input_size = inp_lang.n_chrs\n",
        "embedding_size = 128\n",
        "output_size = out_lang.n_chrs\n",
        "hidden_layer_size = 64\n",
        "num_layers = 2\n",
        "cell_type = 'RNN'\n",
        "dropout_prob = 0.1\n",
        "learning_rate = 0.01\n",
        "bidirectional = False\n",
        "epochs = 10\n",
        "encoder = Encoder(input_size, embedding_size, hidden_layer_size, num_layers, cell_type, dropout_prob, bidirectional)\n",
        "decoder = Decoder(output_size, embedding_size, hidden_layer_size, num_layers, cell_type, dropout_prob, bidirectional)\n",
        "model = Seq2Seq(encoder,decoder,learning_rate)\n",
        "train(model,epochs)\n",
        "\n"
      ]
    },
    {
      "cell_type": "code",
      "execution_count": 73,
      "metadata": {},
      "outputs": [
        {
          "data": {
            "text/plain": [
              "[tensor([1]),\n",
              " '*',\n",
              " tensor([[[[3.7510e-02, 4.4114e+04, 2.1766e+04, 1.5324e+04, 8.1817e+03,\n",
              "            1.7772e+04, 3.0762e+04, 2.3672e+04, 3.0959e+04, 2.2608e+04,\n",
              "            2.0143e+04, 1.9218e+04, 9.8513e+03, 1.8196e+04, 1.7789e+04,\n",
              "            1.7351e+04, 2.0242e+04, 2.0066e+04, 1.1267e+04, 1.7333e+04,\n",
              "            1.9491e+04, 1.2423e+04, 2.3236e+04, 2.0014e+04, 9.6049e+03,\n",
              "            2.1037e+04, 1.4871e+04, 6.7044e+03, 1.8983e+04, 1.6248e+04,\n",
              "            1.3851e+04, 8.8384e+03, 1.7105e+04, 1.0929e+04, 9.3486e+03,\n",
              "            1.4532e+04, 1.1596e+04, 1.5291e+04, 1.3010e+04, 1.5571e+04,\n",
              "            1.1392e+04, 5.1868e+03, 8.4933e+03, 1.1900e+03, 2.1115e+03,\n",
              "            1.7188e+03]]]], grad_fn=<StackBackward0>)]"
            ]
          },
          "execution_count": 73,
          "metadata": {},
          "output_type": "execute_result"
        }
      ],
      "source": [
        "def train_model():\n",
        "    config_defaults = {\n",
        "        \"embedding_size\" : ,\n",
        "        \"hidden_layer_size\" : ,\n",
        "        \"num_layers\" : ,\n",
        "        \"cell_type\" : ,\n",
        "        \"dropout_prob\" : ,\n",
        "        \"learning_rate\" : ,\n",
        "        \"bidirectional\" : ,\n",
        "    }\n",
        "    \n",
        "    wandb.init(config=config_defaults)\n",
        "    config = wandb.config\n",
        "    input_size = inp_lang.n_chrs\n",
        "    embedding_size = config.embedding_size\n",
        "    output_size = out_lang.n_chrs\n",
        "    hidden_layer_size = config.hidden_layer_size\n",
        "    num_layers = config.num_layers\n",
        "    cell_type = config.cell_type\n",
        "    dropout_prob = config.dropout_prob\n",
        "    learning_rate = config.learning_rate\n",
        "    bidirectional = config.birectional\n",
        "    epochs = config.epochs\n",
        "    encoder = Encoder(input_size, embedding_size, hidden_layer_size, num_layers, cell_type, dropout_prob, bidirectional)\n",
        "    decoder = Decoder(output_size, embedding_size, hidden_layer_size, num_layers, cell_type, dropout_prob, bidirectional)\n",
        "    model = Seq2Seq(encoder,decoder,learning_rate)\n",
        "    train(model,epochs)\n",
        "    run_name = \"es_{}_hl_{}_nl_{}_ct_{}_dp_{}_lr_{}_bi_{}_ep_{}\".format(embedding_size,hidden_layer_size,num_layers,cell_type,dropout_prob,learning_rate,bidirectional,epochs)\n",
        "\n",
        "    \n",
        "    run_name = \"es_{}_hl_{}_nl_{}_ct_{}_dp_{}_lr_{}_bi_{}_ep_{}\".format(embedding_size,hidden_layer_size,num_layers,cell_type,dropout_prob,learning_rate,bidirectional,epochs)\n",
        "    wandb.run.name = run_name\n",
        "    wandb.run.save()\n",
        "    \n",
        "    \n",
        "    \n",
        "    "
      ]
    },
    {
      "cell_type": "code",
      "execution_count": null,
      "metadata": {
        "id": "0T7XAAVJAK6V"
      },
      "outputs": [],
      "source": [
        "sweep_config = {\n",
        "    # \"name\" : \"assignment_sweeps\",\n",
        "    \"method\" : \"bayes\",\n",
        "    \"metric\" :{\n",
        "        \"name\" : \"validation_accuracy\",\n",
        "        \"goal\" : \"maximize\"\n",
        "    },\n",
        "    \"parameters\" : {\n",
        "        \"embedding_size\" : {\n",
        "            \"values\" : [16,32,64,128]\n",
        "        },\n",
        "        \"num_layers\" : {\n",
        "            \"values\" : [1,2,3,4]\n",
        "        },\n",
        "        \"hidden_layer_size\" : {\n",
        "            \"values\" : [32,64,128]\n",
        "        },\n",
        "        \"learning_rate\" : {\n",
        "            \"values\" : [0.001,0.0001]\n",
        "        },\n",
        "        \"cell_type\" : {\n",
        "           \"values\" : ['RNN', 'LSTM', 'GRU'] \n",
        "        },\n",
        "        \"dropout\" : {\n",
        "            \"values\" : [0.1,0.2]\n",
        "        },\n",
        "        \"bidirectional \": {\n",
        "            \"values\" : [True,False]\n",
        "        }\n",
        "    }\n",
        "}\n",
        "\n"
      ]
    },
    {
      "cell_type": "code",
      "execution_count": null,
      "metadata": {},
      "outputs": [],
      "source": [
        "sweep_id = wandb.sweep(sweep_config,project=\"CS6910_Assignment_2\")\n",
        "wandb.agent(sweep_id = sweep_id,function = train_model,count = 25)"
      ]
    }
  ],
  "metadata": {
    "accelerator": "GPU",
    "colab": {
      "collapsed_sections": [
        "OsQc8sWA1V41"
      ],
      "gpuType": "T4",
      "provenance": []
    },
    "gpuClass": "standard",
    "kernelspec": {
      "display_name": "Python 3",
      "name": "python3"
    },
    "language_info": {
      "codemirror_mode": {
        "name": "ipython",
        "version": 3
      },
      "file_extension": ".py",
      "mimetype": "text/x-python",
      "name": "python",
      "nbconvert_exporter": "python",
      "pygments_lexer": "ipython3",
      "version": "3.8.10"
    }
  },
  "nbformat": 4,
  "nbformat_minor": 0
}
