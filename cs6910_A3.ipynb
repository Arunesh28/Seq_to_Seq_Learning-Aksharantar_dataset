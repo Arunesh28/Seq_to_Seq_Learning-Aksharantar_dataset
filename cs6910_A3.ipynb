{
  "cells": [
    {
      "cell_type": "code",
      "execution_count": 1,
      "metadata": {
        "id": "_XMtpZKWB6IS"
      },
      "outputs": [],
      "source": [
        "import numpy as np\n",
        "import pandas as pd\n",
        "import random\n",
        "import torch\n",
        "import torch.nn as nn\n",
        "import torch.optim as optim\n",
        "import torch.nn.functional as F\n",
        "# from torch.autograd import Variable\n",
        "import random\n",
        "import wandb\n",
        "# from torch.nn.utils.rnn import masked_cross_entropy\n",
        "# random.seed(10)\n",
        "# device = torch.device(\"cuda\" if torch.cuda.is_available() else \"cpu\")"
      ]
    },
    {
      "cell_type": "code",
      "execution_count": 2,
      "metadata": {},
      "outputs": [
        {
          "name": "stdout",
          "output_type": "stream",
          "text": [
            "5.0\n"
          ]
        }
      ],
      "source": [
        "tg = torch.zeros(5)\n",
        "tg[0] = 5\n",
        "print(tg[0].item())\n"
      ]
    },
    {
      "cell_type": "code",
      "execution_count": 3,
      "metadata": {
        "colab": {
          "base_uri": "https://localhost:8080/"
        },
        "id": "-2XFj4FB_8QJ",
        "outputId": "249179fa-19ab-4e34-dc72-794016738e3b"
      },
      "outputs": [],
      "source": [
        "# from google.colab import drive\n",
        "# drive.mount('/content/gdrive')"
      ]
    },
    {
      "cell_type": "code",
      "execution_count": 4,
      "metadata": {
        "id": "BvtANBSb_-EJ"
      },
      "outputs": [],
      "source": [
        "# !unzip /content/gdrive/MyDrive/aksharantar_sampled.zip > /dev/null"
      ]
    },
    {
      "cell_type": "code",
      "execution_count": 5,
      "metadata": {
        "id": "RAtFonmF8mnI"
      },
      "outputs": [],
      "source": [
        "USE_CUDA = False"
      ]
    },
    {
      "cell_type": "code",
      "execution_count": 6,
      "metadata": {},
      "outputs": [],
      "source": [
        "OUTPUT_LANGUAGE = 'mni'\n",
        "MAX_WORD_LENGTH = 25"
      ]
    },
    {
      "attachments": {},
      "cell_type": "markdown",
      "metadata": {
        "id": "RjJtGtexp-MH"
      },
      "source": [
        "## READING DATA"
      ]
    },
    {
      "cell_type": "code",
      "execution_count": 7,
      "metadata": {
        "id": "TO74AFzFpNvT"
      },
      "outputs": [],
      "source": [
        "'''\n",
        "Below train, validation and test data are list of strings\n",
        "'''\n",
        "train_data=pd.read_csv('aksharantar_sampled/'+OUTPUT_LANGUAGE+'/'+OUTPUT_LANGUAGE+'_train.csv',header=None)\n",
        "X_train = list(train_data[0])\n",
        "Y_train = list(train_data[1])\n",
        "\n",
        "validation_data=pd.read_csv('aksharantar_sampled/'+OUTPUT_LANGUAGE+'/'+OUTPUT_LANGUAGE+'_valid.csv',header=None)\n",
        "X_valid = list(validation_data[0])\n",
        "Y_valid = list(validation_data[1])\n",
        "\n",
        "test_data=pd.read_csv('aksharantar_sampled/'+OUTPUT_LANGUAGE+'/'+OUTPUT_LANGUAGE+'_test.csv',header=None)\n",
        "X_test = list(test_data[0])\n",
        "Y_test = list(test_data[1])"
      ]
    },
    {
      "cell_type": "code",
      "execution_count": 8,
      "metadata": {},
      "outputs": [],
      "source": [
        "SOS_token = 0\n",
        "EOS_token = 1\n",
        "UNK_TOKEN = 2\n",
        "# ND_TOKEN = \n",
        "class Lang:\n",
        "    def __init__(self, name):\n",
        "        self.name = name\n",
        "        self.chr2index = {}\n",
        "        self.chr2count = {}\n",
        "        # self.index2chr = {0: \"$\", 1: \"*\", 2: \"_\"}\n",
        "        self.index2chr = {0: \"$\", 1: \"*\"}\n",
        "        self.n_chrs = 2  # 3 if Count SOS and EOS and UNK\n",
        "\n",
        "    def addword(self, word):\n",
        "        for letter in word:\n",
        "            self.addchr(letter)\n",
        "\n",
        "    def addchr(self, chr_):\n",
        "        if chr_ not in self.chr2index:\n",
        "            self.chr2index[chr_] = self.n_chrs\n",
        "            self.chr2count[chr_] = 1\n",
        "            self.index2chr[self.n_chrs] = chr_\n",
        "            self.n_chrs += 1\n",
        "        else:\n",
        "            self.chr2count[chr_] += 1\n",
        "            \n",
        "    def add_word_list(self,word_lst):\n",
        "        for word in word_lst:\n",
        "            self.addword(word)"
      ]
    },
    {
      "cell_type": "code",
      "execution_count": 9,
      "metadata": {},
      "outputs": [],
      "source": [
        "inp_lang = Lang(\"eng\")\n",
        "inp_lang.add_word_list(X_train)\n",
        "\n",
        "out_lang = Lang(OUTPUT_LANGUAGE)\n",
        "out_lang.add_word_list(Y_train)\n"
      ]
    },
    {
      "cell_type": "code",
      "execution_count": 10,
      "metadata": {},
      "outputs": [
        {
          "name": "stdout",
          "output_type": "stream",
          "text": [
            "{'m': 2, 'a': 3, 't': 4, 'h': 5, 'n': 6, 'g': 7, 'i': 8, 's': 9, 'l': 10, 'o': 11, 'u': 12, 'k': 13, 'r': 14, 'e': 15, 'p': 16, 'c': 17, 'j': 18, 'b': 19, 'd': 20, 'w': 21, 'y': 22, 'f': 23, 'v': 24, 'z': 25, 'x': 26, 'q': 27}\n"
          ]
        }
      ],
      "source": [
        "print(inp_lang.chr2index)"
      ]
    },
    {
      "attachments": {},
      "cell_type": "markdown",
      "metadata": {
        "id": "fCpYM7uh22Ir"
      },
      "source": [
        "## DATA PROCESSING"
      ]
    },
    {
      "cell_type": "code",
      "execution_count": 11,
      "metadata": {
        "id": "SrltDzm5mMwP"
      },
      "outputs": [],
      "source": [
        "# def get_one_hot(char_dict,ch,len_alphabets):\n",
        "#   input_index = char_dict[ch]\n",
        "#   one_hot_tensor = np.zeros(len_alphabets)\n",
        "#   one_hot_tensor[input_index] = 1\n",
        "#   return one_hot_tensor.tolist()\n",
        "\n",
        "def get_one_hot(char_dict,ch,len_alphabets):\n",
        "  # if ch not in char_dict.keys():\n",
        "  #   return UNK_TOKEN\n",
        "  # else:\n",
        "  #   return char_dict[ch]\n",
        "  \n",
        "  return char_dict[ch]\n",
        "\n",
        "# def data_processing(data,char_dict,len_chrs):\n",
        "#   ONE_HOT = []\n",
        "#   for word in data :\n",
        "#     word = '$' + word + '*'\n",
        "#     encoded_word = [get_one_hot(char_dict,i,len_chrs) for i in word]\n",
        "#     encoded_word = torch.tensor(encoded_word)\n",
        "#     ONE_HOT.append(encoded_word)\n",
        "#   return ONE_HOT\n",
        "\n",
        "# Hindi -> 28\n",
        "# Tamil -> 30\n",
        "\n",
        "# MAX_SEQ_LEN = 28\n",
        "\n",
        "# def add_padding(word):\n",
        "#   while len(word) != MAX_SEQ_LEN:\n",
        "#     word += '_'\n",
        "#   return word\n",
        "\n",
        "def data_processing(data,char_dict,len_chrs):\n",
        "  ONE_HOT = []\n",
        "  for word in data :\n",
        "    encoded_word = [get_one_hot(char_dict,i,len_chrs) for i in word]\n",
        "    encoded_word.append(EOS_token)\n",
        "    encoded_word = torch.LongTensor(encoded_word)\n",
        "    ONE_HOT.append(encoded_word)\n",
        "  return ONE_HOT"
      ]
    },
    {
      "attachments": {},
      "cell_type": "markdown",
      "metadata": {
        "id": "Pc1uE0ahwa77"
      },
      "source": [
        "$ - Start Character \\\\\n",
        "\\* - End Character"
      ]
    },
    {
      "attachments": {},
      "cell_type": "markdown",
      "metadata": {
        "id": "Nh85tLrtp-3K"
      },
      "source": [
        "###Hindi"
      ]
    },
    {
      "cell_type": "code",
      "execution_count": 12,
      "metadata": {
        "id": "oU9O9RCuoquq"
      },
      "outputs": [],
      "source": [
        "# tgt_chrs = '$'\n",
        "# for i in range(2304,2432):\n",
        "#   tgt_chrs += chr(i)\n",
        "# tgt_chrs += '*'\n",
        "# tgt_char_dict = {char: i for i, char in enumerate(tgt_chrs)}\n",
        "\n",
        "# inp_chrs = '$abcdefghijklmnopqrstuvwxyz*'\n",
        "# inp_char_dict = {char: i for i, char in enumerate(inp_chrs)}"
      ]
    },
    {
      "cell_type": "code",
      "execution_count": 13,
      "metadata": {},
      "outputs": [
        {
          "name": "stdout",
          "output_type": "stream",
          "text": [
            "{0: '$', 1: '*', 2: 'm', 3: 'a', 4: 't', 5: 'h', 6: 'n', 7: 'g', 8: 'i', 9: 's', 10: 'l', 11: 'o', 12: 'u', 13: 'k', 14: 'r', 15: 'e', 16: 'p', 17: 'c', 18: 'j', 19: 'b', 20: 'd', 21: 'w', 22: 'y', 23: 'f', 24: 'v', 25: 'z', 26: 'x', 27: 'q'}\n",
            "{'m': 2, 'a': 3, 't': 4, 'h': 5, 'n': 6, 'g': 7, 'i': 8, 's': 9, 'l': 10, 'o': 11, 'u': 12, 'k': 13, 'r': 14, 'e': 15, 'p': 16, 'c': 17, 'j': 18, 'b': 19, 'd': 20, 'w': 21, 'y': 22, 'f': 23, 'v': 24, 'z': 25, 'x': 26, 'q': 27}\n"
          ]
        }
      ],
      "source": [
        "print(inp_lang.index2chr)\n",
        "print(inp_lang.chr2index)"
      ]
    },
    {
      "cell_type": "code",
      "execution_count": 14,
      "metadata": {
        "id": "w_tzl6_FT23B"
      },
      "outputs": [
        {
          "name": "stdout",
          "output_type": "stream",
          "text": [
            "28\n",
            "46\n"
          ]
        }
      ],
      "source": [
        "# print(len(inp_lang.chr2index))\n",
        "# print(len(out_lang.chr2index))\n",
        "INP_LANG_SIZE = len(inp_lang.index2chr)\n",
        "OUT_LANG_SIZE = len(out_lang.index2chr)\n",
        "print(INP_LANG_SIZE)\n",
        "print(OUT_LANG_SIZE)"
      ]
    },
    {
      "attachments": {},
      "cell_type": "markdown",
      "metadata": {
        "id": "8RjpAd7KjQz6"
      },
      "source": [
        "Below is the template to create your dataset for the langauage you want to train on"
      ]
    },
    {
      "cell_type": "code",
      "execution_count": 15,
      "metadata": {
        "colab": {
          "base_uri": "https://localhost:8080/",
          "height": 53
        },
        "id": "wC_4tPYTizbN",
        "outputId": "b7127662-1889-4919-90c3-9851044cca0d"
      },
      "outputs": [
        {
          "data": {
            "text/plain": [
              "\"\\nstart -> unicode of the first character in the language\\nend -> unicode of the last character in the language\\n\\ntgt_chrs = '$'\\nfor i in range(start,end):\\n  tgt_chrs += chr(i)\\ntgt_chrs += '*_'\\ntgt_char_dict = {char: i for i, char in enumerate(tgt_chrs)}\\n\\ninp_chrs = '$abcdefghijklmnopqrstuvwxyz*_'\\ninp_char_dict = {char: i for i, char in enumerate(inp_chrs)}\\n\""
            ]
          },
          "execution_count": 15,
          "metadata": {},
          "output_type": "execute_result"
        }
      ],
      "source": [
        "'''\n",
        "start -> unicode of the first character in the language\n",
        "end -> unicode of the last character in the language\n",
        "\n",
        "tgt_chrs = '$'\n",
        "for i in range(start,end):\n",
        "  tgt_chrs += chr(i)\n",
        "tgt_chrs += '*_'\n",
        "tgt_char_dict = {char: i for i, char in enumerate(tgt_chrs)}\n",
        "\n",
        "inp_chrs = '$abcdefghijklmnopqrstuvwxyz*_'\n",
        "inp_char_dict = {char: i for i, char in enumerate(inp_chrs)}\n",
        "'''"
      ]
    },
    {
      "cell_type": "code",
      "execution_count": 16,
      "metadata": {
        "id": "fK9M6b07xDox"
      },
      "outputs": [],
      "source": [
        "# # These are lists of tensors corresponding to each word\n",
        "inp_train = data_processing(X_train,inp_lang.chr2index,len(inp_lang.chr2index))\n",
        "tgt_train = data_processing(Y_train,out_lang.chr2index,len(out_lang.chr2index))\n",
        "inp_valid = data_processing(X_valid,inp_lang.chr2index,len(inp_lang.chr2index))\n",
        "tgt_valid = data_processing(Y_valid,out_lang.chr2index,len(out_lang.chr2index))\n",
        "inp_test = data_processing(X_test,inp_lang.chr2index,len(inp_lang.chr2index))\n",
        "tgt_test = data_processing(Y_test,out_lang.chr2index,len(out_lang.chr2index))"
      ]
    },
    {
      "cell_type": "code",
      "execution_count": null,
      "metadata": {},
      "outputs": [],
      "source": []
    },
    {
      "cell_type": "code",
      "execution_count": 17,
      "metadata": {},
      "outputs": [],
      "source": [
        "# print(tgt_train[0].size())"
      ]
    },
    {
      "cell_type": "code",
      "execution_count": 18,
      "metadata": {
        "id": "khab_aFEdFgm"
      },
      "outputs": [],
      "source": [
        "# print(max([len(X_train[i]) for i in range(len(X_train))]))\n",
        "# print(max([len(X_test[i]) for i in range(len(X_test))]))\n",
        "# print(max([len(X_valid[i]) for i in range(len(X_valid))]))\n",
        "# print(max([len(Y_train[i]) for i in range(len(Y_train))]))\n",
        "# print(max([len(Y_test[i]) for i in range(len(Y_test))]))\n",
        "# print(max([len(Y_valid[i]) for i in range(len(Y_valid))]))"
      ]
    },
    {
      "attachments": {},
      "cell_type": "markdown",
      "metadata": {
        "id": "NYGk6k9B274a"
      },
      "source": [
        "## ENCODER"
      ]
    },
    {
      "cell_type": "code",
      "execution_count": 19,
      "metadata": {
        "id": "6WNDRGpjGs16"
      },
      "outputs": [],
      "source": [
        "class Encoder(nn.Module):\n",
        "    def __init__(self, input_size, embedding_size, hidden_layer_size, num_encoder_layers, cell_type, dropout_prob, bidirectional):\n",
        "      super(Encoder, self).__init__()\n",
        "      '''\n",
        "        self.input_size : int\n",
        "        self.hidden_layer_size : int\n",
        "        self.num_encoder_layers : int\n",
        "        self.cell_type : string\n",
        "      '''\n",
        "      self.input_size = input_size\n",
        "      self.hidden_layer_size = hidden_layer_size\n",
        "      self.num_encoder_layers = num_encoder_layers\n",
        "      self.cell_type = cell_type\n",
        "\n",
        "      self.embedding = nn.Embedding(self.input_size, embedding_size)\n",
        "\n",
        "      if cell_type == 'RNN':\n",
        "        self.rnn = nn.RNN(input_size = embedding_size, hidden_size = hidden_layer_size, num_layers = num_encoder_layers, dropout = dropout_prob, bidirectional = bidirectional)\n",
        "      elif cell_type == 'LSTM':\n",
        "        self.rnn = nn.LSTM(input_size = embedding_size, hidden_size = hidden_layer_size, num_layers = num_encoder_layers, dropout = dropout_prob, bidirectional = bidirectional)\n",
        "      elif cell_type == 'GRU':\n",
        "        self.rnn = nn.GRU(input_size = embedding_size, hidden_size = hidden_layer_size, num_layers = num_encoder_layers, dropout = dropout_prob, bidirectional = bidirectional)\n",
        "      self.dropout = nn.Dropout(dropout_prob)\n",
        "      self.D = 1\n",
        "      if bidirectional == True :\n",
        "        self.D = 2\n",
        "\n",
        "    def forward(self, input, prev_hidden):\n",
        "      # print(\"entered_encoder\")\n",
        "      seq_len = len(input)\n",
        "      embedded = self.embedding(input)\n",
        "      embedded = embedded.view(seq_len,1,-1)\n",
        "      # print(embedded.size())\n",
        "      # seq_len,1,embedding_size\n",
        "      embedded = self.dropout(embedded)\n",
        "      if self.cell_type == 'RNN':\n",
        "        output, hidden = self.rnn(embedded,prev_hidden)\n",
        "      elif self.cell_type == 'LSTM':\n",
        "        cell = torch.zeros(self.num_encoder_layers,self.batch_size,self.hidden_layer_size)\n",
        "        output, (hidden,cell) = self.rnn(embedded,(prev_hidden,cell))\n",
        "      elif self.cell_type == 'GRU':\n",
        "        output, hidden = self.rnn(embedded,prev_hidden)\n",
        "        \n",
        "      return output,hidden\n",
        "\n",
        "    def init_hidden(self):\n",
        "      \n",
        "      '''\n",
        "      # cell = Variable(torch.zeros(self.num_encoder_layers,batch_size,self.hidden_layer_size))\n",
        "      if self.cell_type == 'LSTM':\n",
        "        # cell = Variable(torch.zeros(self.num_encoder_layers,batch_size,self.hidden_layer_size))\n",
        "        hidden = Variable(torch.zeros(self.num_encoder_layers,batch_size,self.hidden_layer_size))\n",
        "      else :\n",
        "        hidden = Variable(torch.zeros(self.num_encoder_layers,batch_size,self.hidden_layer_size))\n",
        "      ''' \n",
        "      \n",
        "      if self.cell_type == 'LSTM':\n",
        "        hidden = torch.zeros(self.D*self.num_encoder_layers,1,self.hidden_layer_size)\n",
        "      else :\n",
        "        hidden = torch.zeros(self.D*self.num_encoder_layers,1,self.hidden_layer_size)\n",
        "      # if USE_CUDA: hidden = hidden.cuda()\n",
        "      # return hidden,cell\n",
        "      return hidden\n"
      ]
    },
    {
      "attachments": {},
      "cell_type": "markdown",
      "metadata": {
        "id": "5gjv22ej2-cB"
      },
      "source": [
        "## DECODER"
      ]
    },
    {
      "cell_type": "code",
      "execution_count": 20,
      "metadata": {
        "id": "afYWn2_zLtUn"
      },
      "outputs": [],
      "source": [
        "# class Decoder\n",
        "\n",
        "class Decoder(nn.Module):\n",
        "  def __init__(self, output_size, embedding_size, hidden_layer_size, num_layers, cell_type, dropout_prob, bidirectional):\n",
        "    super(Decoder, self).__init__()\n",
        "    '''\n",
        "      self.output_size : int\n",
        "      self.hidden_layer_size : int\n",
        "      self.num_encoder_layers : int\n",
        "      self.cell_type : string\n",
        "      self.rnn : RNN,LSTM,GRU \n",
        "    '''\n",
        "    self.output_size = output_size\n",
        "    self.hidden_layer_size = hidden_layer_size\n",
        "    self.num_layers = num_layers\n",
        "    self.cell_type = cell_type\n",
        "    self.embedding_size = embedding_size\n",
        "    self.embedding = nn.Embedding(OUT_LANG_SIZE, embedding_size)\n",
        "\n",
        "    if cell_type == 'RNN':\n",
        "      self.rnn = nn.RNN(input_size = embedding_size, hidden_size = hidden_layer_size, num_layers = num_layers, dropout = dropout_prob, bidirectional = bidirectional)\n",
        "    elif cell_type == 'LSTM':\n",
        "      self.rnn = nn.LSTM(input_size = embedding_size, hidden_size = hidden_layer_size, num_layers = num_layers, dropout = dropout_prob, bidirectional = bidirectional)\n",
        "    elif cell_type == 'GRU':\n",
        "      self.rnn = nn.GRU(input_size = embedding_size, hidden_size = hidden_layer_size, num_layers = num_layers, dropout = dropout_prob, bidirectional = bidirectional)\n",
        "\n",
        "    self.dropout = nn.Dropout(dropout_prob)\n",
        "    self.fc = nn.Linear(hidden_layer_size, output_size)\n",
        "    self.softmax = nn.LogSoftmax(dim = 1)\n",
        "      \n",
        "  def forward(self, input, prev_hidden):\n",
        "    # print(\"Entered Decoder\")\n",
        "    embedded = self.embedding(input)\n",
        "    embedded = embedded.view(1,1,-1)\n",
        "    embedded = F.relu(embedded)\n",
        "    embedded = self.dropout(embedded)\n",
        "    # print(\"emb size\",embedded.size())\n",
        "    # print(\"hidden size\",prev_hidden.size())\n",
        "    # print()\n",
        "    # print(embedded.size())\n",
        "    # print(prev_hidden.size())\n",
        "    if self.cell_type == 'RNN':\n",
        "      output, hidden = self.rnn(embedded,prev_hidden)\n",
        "    elif self.cell_type == 'LSTM':\n",
        "      cell = torch.zeros(self.num_encoder_layers,self.batch_size,self.hidden_layer_size)\n",
        "      output,(cell, hidden) = self.rnn(embedded,prev_hidden)\n",
        "    elif self.cell_type == 'GRU':\n",
        "      output, hidden = self.rnn(embedded,prev_hidden)\n",
        "    # print(\"hjk\")\n",
        "    y_pred = self.fc(output)\n",
        "    \n",
        "    return y_pred, hidden\n",
        "\n",
        "  # def init_hidden(self,batch_size):\n",
        "  #   # return torch.zeros(self.num_layers,self.hidden_layer_size)\n",
        "  #   if self.cell_type == 'LSTM':\n",
        "  #       return torch.zeros(self.num_encoder_layers,self.batch_size,self.hidden_layer_size)\n",
        "  #   else :\n",
        "  #     return torch.zeros(self.num_encoder_layers,self.batch_size,self.hidden_layer_size)\n"
      ]
    },
    {
      "cell_type": "code",
      "execution_count": 21,
      "metadata": {},
      "outputs": [],
      "source": [
        "# fd = torch.zeros(5)\n",
        "# print(len(fd))"
      ]
    },
    {
      "attachments": {},
      "cell_type": "markdown",
      "metadata": {
        "id": "SdVuHQkC3AEW"
      },
      "source": [
        "## SEQ2SEQ"
      ]
    },
    {
      "cell_type": "code",
      "execution_count": 22,
      "metadata": {
        "id": "K2kSt-oOLutP"
      },
      "outputs": [],
      "source": [
        "\n",
        "\n",
        "class Seq2Seq(nn.Module):\n",
        "  def __init__(self, encoder, decoder, learning_rate, clip = 5.0, teacher_forcing_ratio = 0.5):\n",
        "    super(Seq2Seq, self).__init__()\n",
        "    self.encoder = encoder\n",
        "    self.decoder = decoder\n",
        "    self.teacher_forcing_ratio = teacher_forcing_ratio\n",
        "    self.encoder_optimizer = optim.Adam(self.encoder.parameters(), lr = learning_rate)\n",
        "    self.decoder_optimizer = optim.Adam(self.decoder.parameters(), lr = learning_rate)\n",
        "    self.encoder_optimizer.zero_grad()\n",
        "    self.decoder_optimizer.zero_grad()\n",
        "    self.criterion = nn.NLLLoss()\n",
        "    self.clip = clip\n",
        "    self.teacher_forcing_ratio = teacher_forcing_ratio\n",
        "    # self.batch_size = batch_size\n",
        "      \n",
        "  def forward(self, input, target):\n",
        "    inp_len = input.size()[0]\n",
        "    tgt_len = target.size()[0]\n",
        "    loss = 0\n",
        "    '''\n",
        "    input : seq_length_inp\n",
        "    target : seq_length_tgt\n",
        "    '''\n",
        "    self.encoder_optimizer.zero_grad()\n",
        "    self.decoder_optimizer.zero_grad()\n",
        "    # Encoder\n",
        "    encoder_hidden = self.encoder.init_hidden()\n",
        "    # print(\"here 345\")\n",
        "    encoder_outputs,encoder_hidden = self.encoder(input,encoder_hidden)\n",
        "    # print(\"done\")\n",
        "    # print(\"target\",target.size())\n",
        "    # encder_hidden,encoder_cell = self.encoder.init_hidden(batch_size)\n",
        "    # if self.encoder.cell_type == 'LSTM':\n",
        "    #   encoder_output,(encoder_hidden,encoder_cell) = self.encoder(input,encoder_hidden)\n",
        "    # else:\n",
        "    # encoder_output, encoder_hidden = self.encoder(input,encoder_hidden)\n",
        "    # for i in range(seq_len):\n",
        "    #   encoder_input = input[i]\n",
        "    #   encoder_output,encoder_hidden = self.encoder(encoder_input,encoder_hidden) # encoder_hidden size is num_layers,hidden_size\n",
        "    '''\n",
        "    encoder_hidden : num_layers,batch_size,embedding_size\n",
        "    encoder_output : max_input_length,batch_size,embedding_size\n",
        "    '''\n",
        "    # print(\"here\")\n",
        "    # print(encoder_hidden.size())\n",
        "    # Decoder\n",
        "    decoder_input = torch.LongTensor([[SOS_token]])\n",
        "    if USE_CUDA:\n",
        "        decoder_input = decoder_input.cuda()\n",
        "    decoder_hidden = encoder_hidden\n",
        "\n",
        "    # decoder_outputs = Variable(torch.zeros(max_len,batch_size,self.decoder.output_size))\n",
        "    # if USE_CUDA:\n",
        "    #     decoder_outputs = decoder_outputs.cuda()\n",
        "    \n",
        "    # print(\"decoder_inp\",decoder_input.size())\n",
        "    # # Without Teacher Forcing\n",
        "    # for i in range(1,tgt_len):\n",
        "    #   decoder_output,decoder_hidden = self.decoder(decoder_input,decoder_hidden)\n",
        "    #   loss += self.criterion(decoder_output.view(-1),target[i])\n",
        "    #   decoder_input = target[i]\n",
        "\n",
        "    # With Teacher Forcing\n",
        "    use_teacher_forcing = random.random() < self.teacher_forcing_ratio\n",
        "    # use_teacher_forcing = False\n",
        "    if use_teacher_forcing:\n",
        "      for i in range(tgt_len):\n",
        "        # print(\"just before entering decoder\")\n",
        "        decoder_output,decoder_hidden = self.decoder(decoder_input,decoder_hidden)\n",
        "        # print(decoder_output.size())\n",
        "        # print(target[i])\n",
        "        # print(decoder_output.view(-1).size(),target[i].size())\n",
        "        loss += self.criterion(decoder_output.view(-1),target[i])\n",
        "        # print(\"after calculating loss\")\n",
        "        # decoder_outputs[i] = decoder_output\n",
        "        decoder_input = target[i]\n",
        "        # print()\n",
        "    else :\n",
        "      for i in range(tgt_len):\n",
        "        # print(decoder_input.size())\n",
        "        decoder_output,decoder_hidden = self.decoder(decoder_input,decoder_hidden)\n",
        "        # print(\"deco\",decoder_output.size())\n",
        "        loss += self.criterion(decoder_output.view(-1),target[i])\n",
        "        topv,topi = decoder_output.view(-1).topk(1)\n",
        "        # print(topi,topi.size())\n",
        "        ni = topi[0]\n",
        "        \n",
        "        # print(\"ni \",ni)\n",
        "        # decoder_outputs[i] = decoder_output\n",
        "        # print(decoder_output.size())\n",
        "        decoder_input = torch.LongTensor([[ni]])\n",
        "        if ni == EOS_token : \n",
        "          break\n",
        "    # print(\"done full decoder\")\n",
        "    loss.backward()\n",
        "    torch.nn.utils.clip_grad_norm_(self.encoder.parameters(), self.clip)\n",
        "    torch.nn.utils.clip_grad_norm_(self.decoder.parameters(), self.clip)\n",
        "    self.encoder_optimizer.step()\n",
        "    self.decoder_optimizer.step()\n",
        "    return loss/tgt_len\n",
        "\n",
        "  def predict(self,input):\n",
        "    # print(\"Entered\")\n",
        "    inp_len = input.size()[0]\n",
        "    encoder_hidden = self.encoder.init_hidden()\n",
        "    encoder_outputs,encoder_hidden = self.encoder(input,encoder_hidden)\n",
        "    loss = 0\n",
        "    # Decoder\n",
        "    # print(\"here\")\n",
        "    decoder_input = torch.LongTensor([[SOS_token]])\n",
        "    decoder_hidden = encoder_hidden\n",
        "\n",
        "    decoded_words = []\n",
        "    decoder_outputs = []\n",
        "    pred_word = ''\n",
        "    for i in range(MAX_WORD_LENGTH):\n",
        "      decoder_output,decoder_hidden = self.decoder(decoder_input,decoder_hidden)\n",
        "      decoder_outputs.append(decoder_output)\n",
        "      topv,topi = decoder_output.view(-1).topk(1)\n",
        "      # print(topi,topi.size())\n",
        "      ni = topi[0]\n",
        "      \n",
        "      decoder_input = torch.LongTensor([[ni]])\n",
        "      decoded_words.append(ni)\n",
        "      pred_word += out_lang.index2chr[ni.item()]\n",
        "      if ni == EOS_token : \n",
        "        break\n",
        "      \n",
        "    return [torch.LongTensor(decoded_words),pred_word,torch.stack(decoder_outputs)]\n"
      ]
    },
    {
      "cell_type": "code",
      "execution_count": 23,
      "metadata": {},
      "outputs": [
        {
          "name": "stdout",
          "output_type": "stream",
          "text": [
            "torch.Size([1, 1])\n"
          ]
        }
      ],
      "source": [
        "tg = torch.LongTensor([[SOS_token]])\n",
        "print(tg.size())"
      ]
    },
    {
      "attachments": {},
      "cell_type": "markdown",
      "metadata": {
        "id": "OsQc8sWA1V41"
      },
      "source": [
        "## Testing"
      ]
    },
    {
      "cell_type": "code",
      "execution_count": 24,
      "metadata": {
        "id": "wRGD-0G73E2k"
      },
      "outputs": [],
      "source": [
        "# Testing\n",
        "\n",
        "# clip = 4.0\n",
        "# batch_size = 128\n",
        "\n",
        "# encodertest = Encoder(30,32,10,5,'RNN',0.1,False,batch_size = batch_size)\n",
        "# decodertest = Decoder(30,32,10,5,'RNN',0.1,False,batch_size = batch_size)\n",
        "# Model = Seq2Seq(Encoder,Decoder)\n",
        "# # print(encodertest)\n",
        "\n",
        "# criterion_ = nn.CrossEntropyLoss()\n",
        "\n",
        "# # input = inp_train[0]\n",
        "# # target = tgt_train[0]\n",
        "\n",
        "# # input_length = input.size()[0]\n",
        "# # target_length = target.size()[0]\n",
        "\n",
        "# encoder_hidden = encodertest.init_hidden()\n",
        "\n",
        "# # Initial Implementation\n",
        "# # encoder_outputs = ()\n",
        "# # for i in range(0,len(inp_train),batch_size):\n",
        "# #   curr_batch = min(len(inp_train)-i,batch_size)\n",
        "# #   encoder_output, encoder_hidden = encodertest(input[i:i+curr_batch],encoder_hidden)\n",
        "# #   print(encoder_output.size())\n",
        "# #   encoder_outputs = encoder_outputs + (encoder_output,)\n",
        "# # encoder_outputs = torch.stack(encoder_outputs)\n",
        "\n",
        "# encoder_output, encoder_hidden = encodertest(inp_train[0:batch_size],encoder_hidden)\n",
        "# encoder_hidden = encoder_hidden.permute(1,0,2)\n",
        "# # print(encoder_hidden[encoder_hidden.size()[0]-1])\n",
        "\n",
        "\n",
        "# decoder_input = tgt_train[0]\n",
        "# decoder_hidden = encoder_hidden[encoder_hidden.size()[0]-1]\n",
        "# loss = 0\n",
        "# decoder_outputs = ()\n",
        "# for i in range(1,len(tgt_train)):\n",
        "#   decoder_output, decoder_hidden = decodertest(decoder_input, decoder_hidden)\n",
        "#   loss += criterion_(decoder_output, tgt_train[i].to(torch.long))\n",
        "#   decoder_input = tgt_train[i]\n",
        "# loss.backward()\n",
        "# torch.nn.utils.clip_grad_norm_(encodertest.parameters(), clip)\n",
        "# torch.nn.utils.clip_grad_norm_(decodertest.parameters(), clip)\n",
        "# print(loss)\n",
        "\n",
        "\n",
        "\n",
        "# encoder_optimizer.step()\n",
        "# decoder_optimizer.step()\n",
        "\n"
      ]
    },
    {
      "cell_type": "code",
      "execution_count": null,
      "metadata": {},
      "outputs": [],
      "source": []
    },
    {
      "attachments": {},
      "cell_type": "markdown",
      "metadata": {
        "id": "J1c_6J71-Kd_"
      },
      "source": [
        "## Training"
      ]
    },
    {
      "cell_type": "code",
      "execution_count": 25,
      "metadata": {},
      "outputs": [
        {
          "name": "stdout",
          "output_type": "stream",
          "text": [
            "tensor([[0., 0.],\n",
            "        [0., 0.],\n",
            "        [0., 0.],\n",
            "        [0., 0.],\n",
            "        [0., 0.]])\n"
          ]
        }
      ],
      "source": [
        "l = []\n",
        "for i in range(5):\n",
        "    l.append(torch.zeros(2))\n",
        "# print(l)\n",
        "print(torch.stack(l))"
      ]
    },
    {
      "cell_type": "code",
      "execution_count": 26,
      "metadata": {
        "id": "OYxHfVnivOge"
      },
      "outputs": [],
      "source": [
        "# def train_once(model,batch_size):\n",
        "#   # Trains once on the whole dataset\n",
        "#   training_loss = 0\n",
        "#   # for i in range(len(inp_train)):\n",
        "#     # if i % 10 == 0:\n",
        "#     #   print(i)\n",
        "#   train_length = inp_train.size(0)\n",
        "#   for i in range(0,train_length,batch_size):\n",
        "#     curr_batch = min(train_length-i,batch_size)\n",
        "#     # print(\"iter = \",i)\n",
        "#     input_tensor = inp_train[i:i+curr_batch]\n",
        "#     target_tensor = tgt_train[i:i+curr_batch]\n",
        "#     loss = model(input_tensor,target_tensor)\n",
        "#     training_loss += loss/(curr_batch*(MAX_SEQ_LEN+2))\n",
        "#   return training_loss\n",
        "\n",
        "def train_once(model,batch_size):\n",
        "  # Trains once on the whole dataset\n",
        "  training_loss = 0\n",
        "  train_length = len(inp_train)\n",
        "  for i in range(train_length):\n",
        "    input_tensor = inp_train[i]\n",
        "    target_tensor = tgt_train[i]\n",
        "    loss = model(input_tensor,target_tensor)\n",
        "    training_loss += loss\n",
        "    if i%200 == 0:\n",
        "      print(i)  \n",
        "  return training_loss/train_length\n",
        "\n",
        "def accuracy_score(pred,actual):\n",
        "  # pred,actual : list of strings/words\n",
        "  return np.sum(np.array(pred) == np.array(actual))/len(pred)\n",
        "\n",
        "def eval_acc_loss(model):\n",
        "  train_pred_ = [model.predict(i) for i in inp_train]\n",
        "  valid_pred_ = [model.predict(i) for i in inp_valid]\n",
        "  \n",
        "  train_pred = list(map(list, zip(*train_pred_)))[1]\n",
        "  valid_pred = list(map(list, zip(*valid_pred_)))[1]\n",
        "  train_accuracy = accuracy_score(train_pred,Y_train)\n",
        "  valid_accuracy = accuracy_score(valid_pred,Y_valid)\n",
        "  \n",
        "  # train_outputs = list(map(list, zip(*train_pred_)))[2]\n",
        "  # valid_outputs = list(map(list, zip(*valid_pred_)))[2]\n",
        "  # train_loss = model.criterion(train_outputs,tgt_train)\n",
        "  # valid_loss = model.criterion(valid_outputs,tgt_valid)\n",
        "  \n",
        "  return train_accuracy,valid_accuracy,train_loss,valid_loss\n",
        "\n",
        "# def eval_loss(model):\n",
        "  \n",
        "  \n",
        "\n",
        "# def get_accuracy(model,pred,target):\n",
        "#     acc = sum(int([model.predict(input[i])[1] == target[i] for i in range(input.size(0))]))/input.size(0)\n",
        "#     return acc\n",
        "\n",
        "# def get_accuracies(model):\n",
        "#   train_accuracy = get_accuracy(model,inp_train,tgt_train)\n",
        "#   valid_accuracy = get_accuracy(model,inp_valid,tgt_valid)\n",
        "#   test_accuracy = get_accuracy(model,inp_test,tgt_test)\n",
        "#   return train_accuracy,valid_accuracy,test_accuracy\n",
        "  \n",
        "def train(model,epochs,batch_size):\n",
        "  for curr_epoch in range(epochs):\n",
        "    train_loss = train_once(model,batch_size)\n",
        "    # train_accuracy,valid_accuracy,train_loss_,valid_loss = eval_acc_loss(model)\n",
        "    # print(\"Epoch : %d, Training Loss : %f, Training Accuracy : %f\" % (curr_epoch+1,train_loss,train_accuracy))\n",
        "    print(\"Epoch : %d, Training Loss : %f\" % (curr_epoch+1,train_loss))\n",
        "    \n",
        "    # wandb.log({ \"training_accuracy\" : train_accuracy,\n",
        "    #           \"validation_accuracy\" : valid_accuracy,\n",
        "    #           \"training_loss\" : train_loss,\n",
        "    #           \"validation_loss\" : valid_loss,\n",
        "    #           \"epoch\" : curr_epoch+1})\n",
        "\n",
        "# def random_train(model,epochs):\n",
        "#   indices = [*range(epochs)]\n",
        "#   loss = 0\n",
        "#   for i in range(epochs):\n",
        "#     index = random.choice(indices)\n",
        "#     indices.remove(index)\n",
        "#     inp_word,tgt_word = inp_train[index],tgt_train[index]\n",
        "#     loss += model(inp_word,tgt_word)\n",
        "#   return loss\n",
        "\n",
        "\n"
      ]
    },
    {
      "cell_type": "code",
      "execution_count": 27,
      "metadata": {},
      "outputs": [
        {
          "name": "stdout",
          "output_type": "stream",
          "text": [
            "ꯊ\n"
          ]
        }
      ],
      "source": [
        "print(out_lang.index2chr[3])"
      ]
    },
    {
      "cell_type": "code",
      "execution_count": 28,
      "metadata": {},
      "outputs": [],
      "source": [
        "# tg = .zeros(1)\n"
      ]
    },
    {
      "cell_type": "code",
      "execution_count": 29,
      "metadata": {},
      "outputs": [
        {
          "name": "stdout",
          "output_type": "stream",
          "text": [
            "[ True False False]\n",
            "0.3333333333333333\n"
          ]
        }
      ],
      "source": [
        "a = np.array(['abc','bcd','efg'])\n",
        "b = np.array(['abc','bng','hjn'])\n",
        "print(a==b)\n",
        "print(accuracy_score(a,b))"
      ]
    },
    {
      "attachments": {},
      "cell_type": "markdown",
      "metadata": {
        "id": "9H3ipiJ3-ETv"
      },
      "source": [
        "## Run"
      ]
    },
    {
      "cell_type": "code",
      "execution_count": 30,
      "metadata": {
        "id": "BSYSelQ7dG3y"
      },
      "outputs": [
        {
          "name": "stdout",
          "output_type": "stream",
          "text": [
            "0\n",
            "200\n",
            "400\n",
            "600\n",
            "800\n",
            "1000\n",
            "1200\n",
            "1400\n",
            "1600\n",
            "1800\n",
            "2000\n",
            "2200\n",
            "2400\n",
            "2600\n",
            "2800\n",
            "3000\n",
            "3200\n",
            "3400\n",
            "3600\n",
            "3800\n",
            "4000\n",
            "4200\n",
            "4400\n",
            "4600\n",
            "4800\n",
            "5000\n",
            "5200\n",
            "5400\n",
            "5600\n",
            "5800\n",
            "6000\n",
            "6200\n",
            "6400\n",
            "6600\n",
            "6800\n",
            "7000\n",
            "7200\n",
            "7400\n",
            "7600\n",
            "7800\n",
            "8000\n",
            "8200\n",
            "8400\n",
            "8600\n",
            "8800\n",
            "9000\n",
            "9200\n",
            "9400\n",
            "9600\n",
            "9800\n",
            "10000\n",
            "Epoch : 1, Training Loss : -677.458679\n",
            "0\n",
            "200\n",
            "400\n",
            "600\n",
            "800\n",
            "1000\n",
            "1200\n",
            "1400\n",
            "1600\n",
            "1800\n",
            "2000\n",
            "2200\n",
            "2400\n",
            "2600\n",
            "2800\n",
            "3000\n",
            "3200\n",
            "3400\n",
            "3600\n",
            "3800\n",
            "4000\n",
            "4200\n",
            "4400\n",
            "4600\n",
            "4800\n",
            "5000\n",
            "5200\n",
            "5400\n",
            "5600\n",
            "5800\n",
            "6000\n",
            "6200\n",
            "6400\n",
            "6600\n",
            "6800\n",
            "7000\n",
            "7200\n",
            "7400\n",
            "7600\n",
            "7800\n"
          ]
        },
        {
          "ename": "",
          "evalue": "",
          "output_type": "error",
          "traceback": [
            "\u001b[1;31mCanceled future for execute_request message before replies were done"
          ]
        },
        {
          "ename": "",
          "evalue": "",
          "output_type": "error",
          "traceback": [
            "\u001b[1;31mThe Kernel crashed while executing code in the the current cell or a previous cell. Please review the code in the cell(s) to identify a possible cause of the failure. Click <a href='https://aka.ms/vscodeJupyterKernelCrash'>here</a> for more info. View Jupyter <a href='command:jupyter.viewOutput'>log</a> for further details."
          ]
        }
      ],
      "source": [
        "# define hyperparameters\n",
        "input_size = inp_lang.n_chrs\n",
        "embedding_size = 128\n",
        "output_size = out_lang.n_chrs\n",
        "hidden_layer_size = 64\n",
        "num_layers = 4\n",
        "cell_type = 'GRU'\n",
        "dropout_prob = 0.1\n",
        "learning_rate = 0.01\n",
        "bidirectional = False\n",
        "batch_size = 4096\n",
        "epochs = 10\n",
        "encoder = Encoder(input_size, embedding_size, hidden_layer_size, num_layers, cell_type, dropout_prob, bidirectional)\n",
        "decoder = Decoder(output_size, embedding_size, hidden_layer_size, num_layers, cell_type, dropout_prob, bidirectional)\n",
        "model = Seq2Seq(encoder,decoder,learning_rate)\n",
        "# train_accuracy,valid_accuracy,train_loss_,valid_loss = eval_acc_loss(model)\n",
        "train(model,epochs,batch_size)\n",
        "# print(model.predict(inp_train[0]))\n",
        "# tgt_pred = model.predict(inp_valid)\n",
        "# acc = accuracy(tgt_pred,tgt_valid)\n",
        "# print(acc)\n"
      ]
    },
    {
      "cell_type": "code",
      "execution_count": 73,
      "metadata": {},
      "outputs": [
        {
          "data": {
            "text/plain": [
              "[tensor([1]),\n",
              " '*',\n",
              " tensor([[[[3.7510e-02, 4.4114e+04, 2.1766e+04, 1.5324e+04, 8.1817e+03,\n",
              "            1.7772e+04, 3.0762e+04, 2.3672e+04, 3.0959e+04, 2.2608e+04,\n",
              "            2.0143e+04, 1.9218e+04, 9.8513e+03, 1.8196e+04, 1.7789e+04,\n",
              "            1.7351e+04, 2.0242e+04, 2.0066e+04, 1.1267e+04, 1.7333e+04,\n",
              "            1.9491e+04, 1.2423e+04, 2.3236e+04, 2.0014e+04, 9.6049e+03,\n",
              "            2.1037e+04, 1.4871e+04, 6.7044e+03, 1.8983e+04, 1.6248e+04,\n",
              "            1.3851e+04, 8.8384e+03, 1.7105e+04, 1.0929e+04, 9.3486e+03,\n",
              "            1.4532e+04, 1.1596e+04, 1.5291e+04, 1.3010e+04, 1.5571e+04,\n",
              "            1.1392e+04, 5.1868e+03, 8.4933e+03, 1.1900e+03, 2.1115e+03,\n",
              "            1.7188e+03]]]], grad_fn=<StackBackward0>)]"
            ]
          },
          "execution_count": 73,
          "metadata": {},
          "output_type": "execute_result"
        }
      ],
      "source": [
        "def train():\n",
        "    config_defaults = {\n",
        "        \"embedding_size\" : ,\n",
        "        \"hidden_layer_size\" : ,\n",
        "        \"num_layers\" : ,\n",
        "        \"cell_type\" : ,\n",
        "        \"dropout_prob\" : ,\n",
        "        \"learning_rate\" : ,\n",
        "        \"bidirectional\" : ,\n",
        "    }\n",
        "    \n",
        "    wandb.init(config=config_defaults)\n",
        "    config = wandb.config\n",
        "    input_size = inp_lang.n_chrs\n",
        "    embedding_size = config.embedding_size\n",
        "    output_size = out_lang.n_chrs\n",
        "    hidden_layer_size = config.hidden_layer_size\n",
        "    num_layers = config.num_layers\n",
        "    cell_type = config.cell_type\n",
        "    dropout_prob = config.dropout_prob\n",
        "    learning_rate = config.learning_rate\n",
        "    bidirectional = config.birectional\n",
        "    epochs = 10\n",
        "    encoder = Encoder(input_size, embedding_size, hidden_layer_size, num_layers, cell_type, dropout_prob, bidirectional)\n",
        "    decoder = Decoder(output_size, embedding_size, hidden_layer_size, num_layers, cell_type, dropout_prob, bidirectional)\n",
        "    model = Seq2Seq(encoder,decoder,learning_rate)\n",
        "    \n",
        "    run_name = \"es_{}_hl_{}_nl_{}_ct_{}_dp_{}_lr_{}_bi_{}_ep_{}\".format(embedding_size,hidden_layer_size,num_layers,cell_type,dropout_prob,learning_rate,bidirectional,epochs)\n",
        "    \n",
        "    FFN = NeuralNet(num_features = NUM_FEATURES,\n",
        "                    weight_initializer = WEIGHT_INITIALIZER,\n",
        "                    num_hidden_layers = NUM_HIDDEN_LAYERS,\n",
        "                    hidden_layer_dims = HIDDEN_LAYER_DIMS,\n",
        "                    optimizer = OPTIMIZER,\n",
        "                    learning_rate = LEARNING_RATE,\n",
        "                    activation = ACTIVATION,\n",
        "                    X_train = X_train,\n",
        "                    Y_train = Y_train,\n",
        "                    Xv = Xv,\n",
        "                    Yv = Yv,\n",
        "                    weight_decay=WEIGHT_DECAY,\n",
        "                    output_layer_dim = OUTPUT_LAYER_DIM,\n",
        "                    batch_size = BATCH_SIZE,\n",
        "                    num_epochs = EPOCHS)\n",
        "    FFN.fit_NeuralNet()\n",
        "    Y_pred_test = FFN.predict_NeuralNet(X_test)\n",
        "    print(\"Test Accuracy :\",FFN.accuracy_score(Y_pred_test,Y_test))\n",
        "    \n",
        "    run_name = \"es_{}_hl_{}_nl_{}_ct_{}_dp_{}_lr_{}_bi_{}_ep_{}\".format(embedding_size,hidden_layer_size,num_layers,cell_type,dropout_prob,learning_rate,bidirectional,epochs)\n",
        "    wandb.run.name = run_name\n",
        "    wandb.run.save()\n",
        "    \n",
        "    \n",
        "    \n",
        "    "
      ]
    },
    {
      "cell_type": "code",
      "execution_count": null,
      "metadata": {
        "id": "0T7XAAVJAK6V"
      },
      "outputs": [],
      "source": [
        "sweep_config = {\n",
        "    # \"name\" : \"assignment_sweeps\",\n",
        "    \"method\" : \"bayes\",\n",
        "    \"metric\" :{\n",
        "        \"name\" : \"validation_accuracy\",\n",
        "        \"goal\" : \"maximize\"\n",
        "    },\n",
        "    \"parameters\" : {\n",
        "        \"embedding_size\" : {\n",
        "            \"values\" : [16,32,64,128,256]\n",
        "        },\n",
        "        \"num_layers\" : {\n",
        "            \"values\" : [1,2,3,4]\n",
        "        },\n",
        "        \"hidden_layer_size\" : {\n",
        "            \"values\" : [16,32,64,128,256]\n",
        "        },\n",
        "        \"learning_rate\" : {\n",
        "            \"values\" : [0.001,0.0001]\n",
        "        },\n",
        "        \"cell_type\" : {\n",
        "           \"values\" : ['RNN', 'LSTM', 'GRU'] \n",
        "        },\n",
        "        \"dropout\" : {\n",
        "            \"values\" : [0.1,0.2,0.3]\n",
        "        },\n",
        "        \"bidirectional \": {\n",
        "            \"values\" : [True,False]\n",
        "        }\n",
        "    }\n",
        "}\n",
        "\n"
      ]
    },
    {
      "cell_type": "code",
      "execution_count": null,
      "metadata": {},
      "outputs": [],
      "source": [
        "sweep_id = wandb.sweep(sweep_config,project=\"CS6910_Assignment_2\")\n",
        "wandb.agent(sweep_id = sweep_id,function = train,count = 40)"
      ]
    }
  ],
  "metadata": {
    "accelerator": "GPU",
    "colab": {
      "collapsed_sections": [
        "OsQc8sWA1V41"
      ],
      "gpuType": "T4",
      "provenance": []
    },
    "gpuClass": "standard",
    "kernelspec": {
      "display_name": "Python 3",
      "name": "python3"
    },
    "language_info": {
      "codemirror_mode": {
        "name": "ipython",
        "version": 3
      },
      "file_extension": ".py",
      "mimetype": "text/x-python",
      "name": "python",
      "nbconvert_exporter": "python",
      "pygments_lexer": "ipython3",
      "version": "3.8.10"
    }
  },
  "nbformat": 4,
  "nbformat_minor": 0
}
