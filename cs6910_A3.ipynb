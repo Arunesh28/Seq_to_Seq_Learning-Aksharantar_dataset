{
  "nbformat": 4,
  "nbformat_minor": 0,
  "metadata": {
    "colab": {
      "provenance": []
    },
    "kernelspec": {
      "name": "python3",
      "display_name": "Python 3"
    },
    "language_info": {
      "name": "python"
    },
    "accelerator": "GPU",
    "gpuClass": "standard"
  },
  "cells": [
    {
      "cell_type": "code",
      "source": [
        "import numpy as np\n",
        "import pandas as pd\n",
        "import random\n",
        "import torch\n",
        "import torch.nn as nn\n",
        "import torch.optim as optim\n",
        "import torch.nn.functional as F\n",
        "# from torch.nn.utils.rnn import masked_cross_entropy\n",
        "# import langdetect\n",
        "# from langdetect import detect\n",
        "\n",
        "device = torch.device(\"cuda\" if torch.cuda.is_available() else \"cpu\")"
      ],
      "metadata": {
        "id": "_XMtpZKWB6IS"
      },
      "execution_count": 3,
      "outputs": []
    },
    {
      "cell_type": "code",
      "execution_count": 4,
      "metadata": {
        "id": "-2XFj4FB_8QJ",
        "colab": {
          "base_uri": "https://localhost:8080/"
        },
        "outputId": "1b873663-33cf-4b70-b409-ace19d911fef"
      },
      "outputs": [
        {
          "output_type": "stream",
          "name": "stdout",
          "text": [
            "Mounted at /content/gdrive\n"
          ]
        }
      ],
      "source": [
        "from google.colab import drive\n",
        "drive.mount('/content/gdrive')"
      ]
    },
    {
      "cell_type": "code",
      "source": [
        "!unzip /content/gdrive/MyDrive/aksharantar_sampled.zip > /dev/null"
      ],
      "metadata": {
        "id": "BvtANBSb_-EJ"
      },
      "execution_count": 5,
      "outputs": []
    },
    {
      "cell_type": "markdown",
      "source": [
        "## READING DATA"
      ],
      "metadata": {
        "id": "RjJtGtexp-MH"
      }
    },
    {
      "cell_type": "code",
      "source": [
        "train_data=pd.read_csv('aksharantar_sampled/hin/hin_train.csv',header=None)\n",
        "X_train = list(train_data[0])\n",
        "Y_train = list(train_data[1])\n",
        "\n",
        "validation_data=pd.read_csv('aksharantar_sampled/hin/hin_valid.csv',header=None)\n",
        "X_valid = list(validation_data[0])\n",
        "Y_valid = list(validation_data[1])\n",
        "\n",
        "test_data=pd.read_csv('aksharantar_sampled/hin/hin_test.csv',header=None)\n",
        "X_test = list(test_data[0])\n",
        "Y_test = list(test_data[1])"
      ],
      "metadata": {
        "id": "L2B6m1l3CG0z"
      },
      "execution_count": 6,
      "outputs": []
    },
    {
      "cell_type": "markdown",
      "source": [
        "## DATA PROCESSING"
      ],
      "metadata": {
        "id": "fCpYM7uh22Ir"
      }
    },
    {
      "cell_type": "code",
      "source": [
        "# def get_one_hot(char_dict,ch,len_alphabets):\n",
        "#   input_index = char_dict[ch]\n",
        "#   one_hot_tensor = np.zeros(len_alphabets)\n",
        "#   one_hot_tensor[input_index] = 1\n",
        "#   return one_hot_tensor.tolist()\n",
        "\n",
        "def get_one_hot(char_dict,ch,len_alphabets):\n",
        "  return char_dict[ch]\n",
        "\n",
        "# def data_processing(data,char_dict,len_chrs):\n",
        "#   ONE_HOT = []\n",
        "#   for word in data :\n",
        "#     word = '$' + word + '*'\n",
        "#     encoded_word = [get_one_hot(char_dict,i,len_chrs) for i in word]\n",
        "#     encoded_word = torch.tensor(encoded_word)\n",
        "#     ONE_HOT.append(encoded_word)\n",
        "#   return ONE_HOT\n",
        "\n",
        "MAX_SEQ_LEN = 28\n",
        "\n",
        "def add_padding(word):\n",
        "  while len(word) != MAX_SEQ_LEN:\n",
        "    word += '_'\n",
        "  return word\n",
        "\n",
        "def data_processing(data,char_dict,len_chrs):\n",
        "  ONE_HOT = []\n",
        "  for word in data :\n",
        "    word = add_padding(word)\n",
        "    word = '$' + word + '*'\n",
        "    encoded_word = [get_one_hot(char_dict,i,len_chrs) for i in word]\n",
        "    encoded_word = torch.tensor(encoded_word)\n",
        "    ONE_HOT.append(encoded_word)\n",
        "  return torch.stack(ONE_HOT)"
      ],
      "metadata": {
        "id": "SrltDzm5mMwP"
      },
      "execution_count": 7,
      "outputs": []
    },
    {
      "cell_type": "markdown",
      "source": [
        "$ - Start Character \\\\\n",
        "\\* - End Character"
      ],
      "metadata": {
        "id": "Pc1uE0ahwa77"
      }
    },
    {
      "cell_type": "code",
      "source": [
        "tgt_chrs = '$'\n",
        "for i in range(2304,2432):\n",
        "  tgt_chrs += chr(i)\n",
        "tgt_chrs += '*_'\n",
        "tgt_char_dict = {char: i for i, char in enumerate(tgt_chrs)}\n",
        "\n",
        "inp_chrs = '$abcdefghijklmnopqrstuvwxyz*_'\n",
        "inp_char_dict = {char: i for i, char in enumerate(inp_chrs)}"
      ],
      "metadata": {
        "id": "ghyHiKPnTIgc"
      },
      "execution_count": 8,
      "outputs": []
    },
    {
      "cell_type": "code",
      "source": [
        "# print(len(inp_chrs))\n",
        "# print(len(tgt_chrs))\n",
        "INP_LANG_SIZE = len(inp_chrs)\n",
        "OUT_LANG_SIZE = len(tgt_chrs)"
      ],
      "metadata": {
        "id": "w_tzl6_FT23B"
      },
      "execution_count": 9,
      "outputs": []
    },
    {
      "cell_type": "markdown",
      "source": [
        "Below is the template to create your dataset for the langauage you want to train on"
      ],
      "metadata": {
        "id": "8RjpAd7KjQz6"
      }
    },
    {
      "cell_type": "code",
      "source": [
        "'''\n",
        "start -> unicode of the first character in the language\n",
        "end -> unicode of the last character in the language\n",
        "\n",
        "tgt_chrs = '$'\n",
        "for i in range(start,end):\n",
        "  tgt_chrs += chr(i)\n",
        "tgt_chrs += '*_'\n",
        "tgt_char_dict = {char: i for i, char in enumerate(tgt_chrs)}\n",
        "\n",
        "inp_chrs = '$abcdefghijklmnopqrstuvwxyz*_'\n",
        "inp_char_dict = {char: i for i, char in enumerate(inp_chrs)}\n",
        "'''"
      ],
      "metadata": {
        "id": "wC_4tPYTizbN",
        "colab": {
          "base_uri": "https://localhost:8080/",
          "height": 53
        },
        "outputId": "81d6a560-56c6-495c-f717-836e12e0c6b1"
      },
      "execution_count": 10,
      "outputs": [
        {
          "output_type": "execute_result",
          "data": {
            "text/plain": [
              "\"\\nstart -> unicode of the first character in the language\\nend -> unicode of the last character in the language\\n\\ntgt_chrs = '$'\\nfor i in range(start,end):\\n  tgt_chrs += chr(i)\\ntgt_chrs += '*_'\\ntgt_char_dict = {char: i for i, char in enumerate(tgt_chrs)}\\n\\ninp_chrs = '$abcdefghijklmnopqrstuvwxyz*_'\\ninp_char_dict = {char: i for i, char in enumerate(inp_chrs)}\\n\""
            ],
            "application/vnd.google.colaboratory.intrinsic+json": {
              "type": "string"
            }
          },
          "metadata": {},
          "execution_count": 10
        }
      ]
    },
    {
      "cell_type": "code",
      "source": [
        "# These are lists of tensors corresponding to each word\n",
        "inp_train = data_processing(X_train,inp_char_dict,len(inp_chrs))\n",
        "tgt_train = data_processing(Y_train,tgt_char_dict,len(tgt_chrs))\n",
        "inp_valid = data_processing(X_valid,inp_char_dict,len(inp_chrs))\n",
        "tgt_valid = data_processing(Y_valid,tgt_char_dict,len(tgt_chrs))\n",
        "inp_test = data_processing(X_test,inp_char_dict,len(inp_chrs))\n",
        "tgt_test = data_processing(Y_test,tgt_char_dict,len(tgt_chrs))"
      ],
      "metadata": {
        "id": "fK9M6b07xDox"
      },
      "execution_count": 11,
      "outputs": []
    },
    {
      "cell_type": "code",
      "source": [
        "print(inp_train.size())\n",
        "print(tgt_train.size())"
      ],
      "metadata": {
        "colab": {
          "base_uri": "https://localhost:8080/"
        },
        "id": "IFd_xLMtgxXb",
        "outputId": "fad14466-fb96-4991-8fec-41103cb82b4b"
      },
      "execution_count": 12,
      "outputs": [
        {
          "output_type": "stream",
          "name": "stdout",
          "text": [
            "torch.Size([51200, 30])\n",
            "torch.Size([51200, 30])\n"
          ]
        }
      ]
    },
    {
      "cell_type": "code",
      "source": [
        "# print(max([len(inp_train[i]) for i in range(len(inp_train))]))\n",
        "# print(max([len(inp_test[i]) for i in range(len(inp_test))]))\n",
        "# print(max([len(inp_valid[i]) for i in range(len(inp_valid))]))\n",
        "# print(max([len(tgt_train[i]) for i in range(len(tgt_train))]))\n",
        "# print(max([len(tgt_test[i]) for i in range(len(tgt_test))]))\n",
        "# print(max([len(tgt_valid[i]) for i in range(len(tgt_valid))]))"
      ],
      "metadata": {
        "id": "khab_aFEdFgm"
      },
      "execution_count": 13,
      "outputs": []
    },
    {
      "cell_type": "code",
      "source": [
        "print(inp_train[:100].size())"
      ],
      "metadata": {
        "id": "d2acCOFogrL8",
        "colab": {
          "base_uri": "https://localhost:8080/"
        },
        "outputId": "66c2e5ef-8ca1-4a37-b11a-a5581eb1fdec"
      },
      "execution_count": 14,
      "outputs": [
        {
          "output_type": "stream",
          "name": "stdout",
          "text": [
            "torch.Size([100, 30])\n"
          ]
        }
      ]
    },
    {
      "cell_type": "markdown",
      "source": [
        "## ENCODER"
      ],
      "metadata": {
        "id": "NYGk6k9B274a"
      }
    },
    {
      "cell_type": "code",
      "source": [
        "class Encoder(nn.Module):\n",
        "    def __init__(self, input_size, embedding_size, hidden_layer_size, num_encoder_layers, cell_type, dropout_prob, bidirectional):\n",
        "      super(Encoder, self).__init__()\n",
        "      '''\n",
        "        self.input_size : int\n",
        "        self.hidden_layer_size : int\n",
        "        self.num_encoder_layers : int\n",
        "        self.cell_type : string\n",
        "      '''\n",
        "      self.input_size = input_size\n",
        "      self.hidden_layer_size = hidden_layer_size\n",
        "      self.num_encoder_layers = num_encoder_layers\n",
        "      self.cell_type = cell_type\n",
        "      # self.cells = {'RNN':RNN,'LSTM':LSTM,'GRU':GRU}\n",
        "\n",
        "      # I changed this\n",
        "      # self.embedding = nn.Embedding(input_size, embedding_size)\n",
        "      self.embedding = nn.Embedding(INP_LANG_SIZE, embedding_size)\n",
        "\n",
        "      # if cell_type == 'RNN':\n",
        "      #   self.rnn = nn.RNN(input_size = embedding_size, hidden_size = hidden_layer_size, num_layers = num_encoder_layers, nonlinearity = 'relu', dropout = dropout_prob, bidirectional = bidirectional, batch_first = True)\n",
        "      # elif cell_type == 'LSTM':\n",
        "      #   self.rnn = nn.LSTM(input_size = embedding_size, hidden_size = hidden_layer_size, num_layers = num_encoder_layers, dropout = dropout_prob, bidirectional = bidirectional, batch_first = True)\n",
        "      # elif cell_type == 'GRU':\n",
        "      #   self.rnn = nn.GRU(input_size = embedding_size, hidden_size = hidden_layer_size, num_layers = num_encoder_layers, dropout = dropout_prob, bidirectional = bidirectional,batch_first = True)\n",
        "      \n",
        "      if cell_type == 'RNN':\n",
        "        self.rnn = nn.RNN(input_size = embedding_size, hidden_size = hidden_layer_size, num_layers = num_encoder_layers, nonlinearity = 'relu', dropout = dropout_prob, bidirectional = bidirectional)\n",
        "      elif cell_type == 'LSTM':\n",
        "        self.rnn = nn.LSTM(input_size = embedding_size, hidden_size = hidden_layer_size, num_layers = num_encoder_layers, dropout = dropout_prob, bidirectional = bidirectional)\n",
        "      elif cell_type == 'GRU':\n",
        "        self.rnn = nn.GRU(input_size = embedding_size, hidden_size = hidden_layer_size, num_layers = num_encoder_layers, dropout = dropout_prob, bidirectional = bidirectional)\n",
        "      \n",
        "      self.dropout = nn.Dropout(dropout_prob)\n",
        "      # self.batch_size = batch_size\n",
        "      self.D = 1\n",
        "      if bidirectional == True :\n",
        "        self.D = 2\n",
        "\n",
        "    def forward(self, input, prev_hidden):\n",
        "      # print(\"input size is\",input.size())\n",
        "\n",
        "      # print(input.size())\n",
        "      # print(prev_hidden.size())\n",
        "      embedded = self.embedding(input.to(torch.long))\n",
        "      embedded = self.dropout(embedded)\n",
        "\n",
        "      # print(embedded.size())\n",
        "\n",
        "      if self.cell_type == 'RNN':\n",
        "        output, hidden = self.rnn(embedded,prev_hidden)\n",
        "      elif self.cell_type == 'LSTM':\n",
        "        cell = torch.zeros(self.num_encoder_layers,self.batch_size,self.hidden_layer_size)\n",
        "        output, (hidden,cell) = self.rnn(embedded,(prev_hidden,cell))\n",
        "      elif self.cell_type == 'GRU':\n",
        "        output, hidden = self.rnn(embedded,prev_hidden)\n",
        "\n",
        "      return output,hidden\n",
        "\n",
        "    def init_hidden(self,batch_size):\n",
        "      # return torch.zeros(1,1,self.hidden_layer_size)\n",
        "      if self.cell_type == 'LSTM':\n",
        "        return torch.zeros(self.num_encoder_layers,batch_size,self.hidden_layer_size)\n",
        "      else :\n",
        "        return torch.zeros(self.num_encoder_layers,batch_size,self.hidden_layer_size)\n"
      ],
      "metadata": {
        "id": "6WNDRGpjGs16"
      },
      "execution_count": 15,
      "outputs": []
    },
    {
      "cell_type": "markdown",
      "source": [
        "## DECODER"
      ],
      "metadata": {
        "id": "5gjv22ej2-cB"
      }
    },
    {
      "cell_type": "code",
      "source": [
        "# class Decoder\n",
        "\n",
        "class Decoder(nn.Module):\n",
        "  def __init__(self, output_size, embedding_size, hidden_layer_size, num_layers, cell_type, dropout_prob, bidirectional):\n",
        "    super(Decoder, self).__init__()\n",
        "    '''\n",
        "      self.output_size : int\n",
        "      self.hidden_layer_size : int\n",
        "      self.num_encoder_layers : int\n",
        "      self.cell_type : string\n",
        "      self.rnn : RNN,LSTM,GRU \n",
        "    '''\n",
        "    self.output_size = output_size\n",
        "    self.hidden_layer_size = hidden_layer_size\n",
        "    self.num_layers = num_layers\n",
        "    self.cell_type = cell_type\n",
        "    self.embedding_size = embedding_size\n",
        "    # self.batch_size = batch_size\n",
        "    # self.cells = {'RNN':RNN,'LSTM':LSTM,'GRU':GRU}\n",
        "    # I changed this\n",
        "    # self.embedding = nn.Embedding(output_size, embedding_size)\n",
        "    self.embedding = nn.Embedding(OUT_LANG_SIZE, embedding_size)\n",
        "\n",
        "    # if cell_type == 'RNN':\n",
        "    #   self.rnn = nn.RNN(input_size = embedding_size, hidden_size = hidden_layer_size, num_layers = num_layers, nonlinearity = 'relu', dropout = dropout_prob, bidirectional = bidirectional, batch_first = True)\n",
        "    # elif cell_type == 'LSTM':\n",
        "    #   self.rnn = nn.LSTM(input_size = embedding_size, hidden_size = hidden_layer_size, num_layers = num_layers, dropout = dropout_prob, bidirectional = bidirectional, batch_first = True)\n",
        "    # elif cell_type == 'GRU':\n",
        "    #   self.rnn = nn.GRU(input_size = embedding_size, hidden_size = hidden_layer_size, num_layers = num_layers, dropout = dropout_prob, bidirectional = bidirectional, batch_first = True)\n",
        "\n",
        "    if cell_type == 'RNN':\n",
        "      self.rnn = nn.RNN(input_size = embedding_size, hidden_size = hidden_layer_size, num_layers = num_layers, nonlinearity = 'relu', dropout = dropout_prob, bidirectional = bidirectional)\n",
        "    elif cell_type == 'LSTM':\n",
        "      self.rnn = nn.LSTM(input_size = embedding_size, hidden_size = hidden_layer_size, num_layers = num_layers, dropout = dropout_prob, bidirectional = bidirectional)\n",
        "    elif cell_type == 'GRU':\n",
        "      self.rnn = nn.GRU(input_size = embedding_size, hidden_size = hidden_layer_size, num_layers = num_layers, dropout = dropout_prob, bidirectional = bidirectional)\n",
        "\n",
        "    self.dropout = nn.Dropout(dropout_prob)\n",
        "    self.fc = nn.Linear(hidden_layer_size, output_size)\n",
        "\n",
        "      \n",
        "  def forward(self, input, prev_hidden):\n",
        "    \n",
        "    batch_size = input.size(0)\n",
        "    # print(input)\n",
        "    embedded = self.embedding(input.to(torch.int))\n",
        "    embedded = self.dropout(embedded)\n",
        "    embedded = embedded.view(1,batch_size,-1)\n",
        "    # print(embedded.size())\n",
        "    # embedded = self.embedding(input)\n",
        "    \n",
        "    if self.cell_type == 'RNN':\n",
        "      output, hidden = self.rnn(embedded,prev_hidden)\n",
        "    elif self.cell_type == 'LSTM':\n",
        "      output, hidden = self.rnn(embedded,prev_hidden)\n",
        "    elif self.cell_type == 'GRU':\n",
        "      output, hidden = self.rnn(embedded,prev_hidden)\n",
        "\n",
        "    y_pred = self.fc(output)\n",
        "    return y_pred, hidden\n",
        "\n",
        "  # def init_hidden(self,batch_size):\n",
        "  #   # return torch.zeros(self.num_layers,self.hidden_layer_size)\n",
        "  #   if self.cell_type == 'LSTM':\n",
        "  #       return torch.zeros(self.num_encoder_layers,self.batch_size,self.hidden_layer_size)\n",
        "  #   else :\n",
        "  #     return torch.zeros(self.num_encoder_layers,self.batch_size,self.hidden_layer_size)\n"
      ],
      "metadata": {
        "id": "afYWn2_zLtUn"
      },
      "execution_count": 16,
      "outputs": []
    },
    {
      "cell_type": "markdown",
      "source": [
        "## SEQ2SEQ"
      ],
      "metadata": {
        "id": "SdVuHQkC3AEW"
      }
    },
    {
      "cell_type": "code",
      "source": [
        "\n",
        "class Seq2Seq(nn.Module):\n",
        "  def __init__(self, encoder, decoder, learning_rate, clip = 5.0, teacher_forcing_ratio = 0.5):\n",
        "    super(Seq2Seq, self).__init__()\n",
        "    self.encoder = encoder\n",
        "    self.decoder = decoder\n",
        "    self.teacher_forcing_ratio = teacher_forcing_ratio\n",
        "    self.encoder_optimizer = optim.Adam(self.encoder.parameters(), lr = learning_rate)\n",
        "    self.decoder_optimizer = optim.Adam(self.decoder.parameters(), lr = learning_rate)\n",
        "    self.encoder_optimizer.zero_grad()\n",
        "    self.decoder_optimizer.zero_grad()\n",
        "    self.criterion = nn.CrossEntropyLoss()\n",
        "    self.clip = clip\n",
        "    # self.batch_size = batch_size\n",
        "      \n",
        "  def forward(self, input, target):\n",
        "    batch_size,max_len = input.size()[0],input.size()[1]\n",
        "    input = input.permute(1,0)\n",
        "    target = target.permute(1,0)\n",
        "    # print(target.size())\n",
        "    '''\n",
        "    input : max_word_length,batch_size\n",
        "    target : max_word_length,batch_size\n",
        "    '''\n",
        "    self.encoder_optimizer.zero_grad()\n",
        "    self.decoder_optimizer.zero_grad()\n",
        "    # Encoder\n",
        "    encoder_hidden = self.encoder.init_hidden(batch_size)\n",
        "    encoder_output, encoder_hidden = self.encoder(input,encoder_hidden)\n",
        "    '''\n",
        "    encoder_hidden : num_layers,batch_size,embedding_size\n",
        "    encoder_output : max_input_length,batch_size,embedding_size\n",
        "    '''\n",
        "\n",
        "    # Decoder\n",
        "    decoder_input = target[0]\n",
        "    decoder_hidden = encoder_hidden[0:self.decoder.num_layers]\n",
        "    decoder_outputs = torch.zeros(max_len,batch_size,self.decoder.output_size)\n",
        "    loss = 0\n",
        "\n",
        "    # With Teacher Forcing\n",
        "    for i in range(1,max_len):\n",
        "      decoder_output,decoder_hidden = self.decoder(decoder_input,decoder_hidden)\n",
        "      loss += self.criterion(decoder_output[0],target[i])\n",
        "      decoder_outputs[i] = decoder_output\n",
        "      decoder_input = target[i]\n",
        "\n",
        "    # Without Teacher Forcing\n",
        "    # for i in range(1,max_len):\n",
        "    #   # print(decoder_input.size())\n",
        "    #   decoder_output,decoder_hidden = self.decoder(decoder_input,decoder_hidden)\n",
        "    #   loss += self.criterion(decoder_output[0],target[i])\n",
        "    #   decoder_outputs[i] = decoder_output\n",
        "    #   decoder_input = torch.argmax(decoder_output[0],1)\n",
        "\n",
        "\n",
        "    # encoder_outputs = ()\n",
        "    # for i in range(input_length):\n",
        "    #   encoder_output, encoder_hidden = self.encoder(input[i],encoder_hidden)\n",
        "    #   encoder_outputs = encoder_outputs + (encoder_output,)\n",
        "    # encoder_outputs = torch.stack(encoder_outputs)\n",
        "\n",
        "\n",
        "    # decoder_input = target[0]\n",
        "    # decoder_hidden = encoder_hidden\n",
        "    # loss = 0\n",
        "    # for i in range(1,target_length):\n",
        "    #   decoder_output, decoder_hidden = self.decoder(decoder_input, decoder_hidden)\n",
        "    #   loss += self.criterion(decoder_output, target[i].to(torch.long))\n",
        "    #   decoder_input = target[i]\n",
        "    \n",
        "    # print(decoder_outputs.size())\n",
        "    # loss = self.criterion()\n",
        "    loss.backward()\n",
        "    torch.nn.utils.clip_grad_norm_(self.encoder.parameters(), self.clip)\n",
        "    torch.nn.utils.clip_grad_norm_(self.decoder.parameters(), self.clip)\n",
        "    self.encoder_optimizer.step()\n",
        "    self.decoder_optimizer.step()\n",
        "    return loss\n",
        "\n",
        "  def predict(input):\n",
        "\n",
        "    pass"
      ],
      "metadata": {
        "id": "K2kSt-oOLutP"
      },
      "execution_count": 17,
      "outputs": []
    },
    {
      "cell_type": "code",
      "source": [
        "x = tgt_train[0:128]\n",
        "print(x.permute(1,0).size())"
      ],
      "metadata": {
        "colab": {
          "base_uri": "https://localhost:8080/"
        },
        "id": "qQjfEVFIMAuy",
        "outputId": "f97257a7-a32e-4a8f-9d48-26d7793b440b"
      },
      "execution_count": 18,
      "outputs": [
        {
          "output_type": "stream",
          "name": "stdout",
          "text": [
            "torch.Size([30, 128])\n"
          ]
        }
      ]
    },
    {
      "cell_type": "markdown",
      "source": [
        "## Testing"
      ],
      "metadata": {
        "id": "OsQc8sWA1V41"
      }
    },
    {
      "cell_type": "code",
      "source": [
        "# Testing\n",
        "\n",
        "# clip = 4.0\n",
        "# batch_size = 128\n",
        "\n",
        "# encodertest = Encoder(30,32,10,5,'RNN',0.1,False,batch_size = batch_size)\n",
        "# decodertest = Decoder(30,32,10,5,'RNN',0.1,False,batch_size = batch_size)\n",
        "# Model = Seq2Seq(Encoder,Decoder)\n",
        "# # print(encodertest)\n",
        "\n",
        "# criterion_ = nn.CrossEntropyLoss()\n",
        "\n",
        "# # input = inp_train[0]\n",
        "# # target = tgt_train[0]\n",
        "\n",
        "# # input_length = input.size()[0]\n",
        "# # target_length = target.size()[0]\n",
        "\n",
        "# encoder_hidden = encodertest.init_hidden()\n",
        "\n",
        "# # Initial Implementation\n",
        "# # encoder_outputs = ()\n",
        "# # for i in range(0,len(inp_train),batch_size):\n",
        "# #   curr_batch = min(len(inp_train)-i,batch_size)\n",
        "# #   encoder_output, encoder_hidden = encodertest(input[i:i+curr_batch],encoder_hidden)\n",
        "# #   print(encoder_output.size())\n",
        "# #   encoder_outputs = encoder_outputs + (encoder_output,)\n",
        "# # encoder_outputs = torch.stack(encoder_outputs)\n",
        "\n",
        "# encoder_output, encoder_hidden = encodertest(inp_train[0:batch_size],encoder_hidden)\n",
        "# encoder_hidden = encoder_hidden.permute(1,0,2)\n",
        "# # print(encoder_hidden[encoder_hidden.size()[0]-1])\n",
        "\n",
        "\n",
        "# decoder_input = tgt_train[0]\n",
        "# decoder_hidden = encoder_hidden[encoder_hidden.size()[0]-1]\n",
        "# loss = 0\n",
        "# decoder_outputs = ()\n",
        "# for i in range(1,len(tgt_train)):\n",
        "#   decoder_output, decoder_hidden = decodertest(decoder_input, decoder_hidden)\n",
        "#   loss += criterion_(decoder_output, tgt_train[i].to(torch.long))\n",
        "#   decoder_input = tgt_train[i]\n",
        "# loss.backward()\n",
        "# torch.nn.utils.clip_grad_norm_(encodertest.parameters(), clip)\n",
        "# torch.nn.utils.clip_grad_norm_(decodertest.parameters(), clip)\n",
        "# print(loss)\n",
        "\n",
        "\n",
        "\n",
        "# encoder_optimizer.step()\n",
        "# decoder_optimizer.step()\n",
        "\n"
      ],
      "metadata": {
        "id": "wRGD-0G73E2k"
      },
      "execution_count": 19,
      "outputs": []
    },
    {
      "cell_type": "markdown",
      "source": [
        "## Training"
      ],
      "metadata": {
        "id": "J1c_6J71-Kd_"
      }
    },
    {
      "cell_type": "code",
      "source": [
        "def train_once(model,batch_size):\n",
        "  # Trains once on the whole dataset\n",
        "  training_loss = 0\n",
        "  # for i in range(len(inp_train)):\n",
        "    # if i % 10 == 0:\n",
        "    #   print(i)\n",
        "  train_length = inp_train.size(0)\n",
        "  for i in range(0,train_length,batch_size):\n",
        "    curr_batch = min(train_length-i,batch_size)\n",
        "    input_tensor = inp_train[i:i+curr_batch]\n",
        "    target_tensor = tgt_train[i:i+curr_batch]\n",
        "    loss = model(input_tensor,target_tensor)\n",
        "    training_loss += loss\n",
        "  return training_loss\n",
        "\n",
        "def train(model,epochs,batch_size):\n",
        "  for epoch in range(epochs):\n",
        "    loss = train_once(model,batch_size)\n",
        "    print(\"Epoch : %d, Training Loss : %f\" % (epoch+1,loss))\n",
        "\n"
      ],
      "metadata": {
        "id": "OYxHfVnivOge"
      },
      "execution_count": 21,
      "outputs": []
    },
    {
      "cell_type": "markdown",
      "source": [
        "## Run"
      ],
      "metadata": {
        "id": "9H3ipiJ3-ETv"
      }
    },
    {
      "cell_type": "code",
      "source": [
        "# define hyperparameters\n",
        "input_size = INP_LANG_SIZE\n",
        "embedding_size = 64\n",
        "output_size = OUT_LANG_SIZE\n",
        "hidden_layer_size = 64\n",
        "num_layers = 4\n",
        "cell_type = 'RNN'\n",
        "dropout_prob = 0.1\n",
        "learning_rate = 0.01\n",
        "bidirectional = False\n",
        "batch_size = 256\n",
        "epochs = 5\n",
        "encoder = Encoder(input_size, embedding_size, hidden_layer_size, num_layers, cell_type, dropout_prob, bidirectional)\n",
        "decoder = Decoder(output_size, embedding_size, hidden_layer_size, num_layers, cell_type, dropout_prob, bidirectional)\n",
        "model = Seq2Seq(encoder,decoder,learning_rate)\n",
        "train(model,epochs,batch_size)\n",
        "# optimizer = optim.Adam(model.parameters(),lr = learning_rate)\n",
        "# criterion = nn.CrossEntropyLoss()\n"
      ],
      "metadata": {
        "id": "BSYSelQ7dG3y",
        "colab": {
          "base_uri": "https://localhost:8080/"
        },
        "outputId": "4ec0b166-0e49-4538-f9bf-5fa47fb27257"
      },
      "execution_count": null,
      "outputs": [
        {
          "output_type": "stream",
          "name": "stdout",
          "text": [
            "Epoch : 1, Training Loss : 6821.577148\n"
          ]
        }
      ]
    },
    {
      "cell_type": "code",
      "source": [
        "sweep_config = {\n",
        "    # \"name\" : \"assignment_sweeps\",\n",
        "    \"method\" : \"bayes\",\n",
        "    \"metric\" :{\n",
        "        \"name\" : \"validation_accuracy\",\n",
        "        \"goal\" : \"maximize\"\n",
        "    },\n",
        "    \"parameters\" : {\n",
        "        \"embedding_size\" : {\n",
        "            \"values\" : [16,32,64,128,256]\n",
        "        },\n",
        "        \"num_encoder_layers\" : {\n",
        "            \"values\" : [1,2,3,4]\n",
        "        },\n",
        "        \"num_decoder_layers\" : {\n",
        "            \"values\" : [1,2,3,4]\n",
        "        },\n",
        "        \"hidden_layer_size\" : {\n",
        "            \"values\" : [16,32,64,128,256]\n",
        "        },\n",
        "        \"learning_rate\" : {\n",
        "            \"values\" : [0.001,0.0001]\n",
        "        },\n",
        "        \"cell_type\" : {\n",
        "           \"values\" : ['RNN', 'LSTM', 'GRU'] \n",
        "        },\n",
        "        \"dropout\" : {\n",
        "            \"values\" : [0.1,0.2,0.3]\n",
        "        },\n",
        "        \"weight_initializer\" : {\n",
        "            \"values\" : [\"random\",\"xavier\"]\n",
        "        },\n",
        "    }\n",
        "}\n",
        "\n"
      ],
      "metadata": {
        "id": "0T7XAAVJAK6V"
      },
      "execution_count": null,
      "outputs": []
    }
  ]
}