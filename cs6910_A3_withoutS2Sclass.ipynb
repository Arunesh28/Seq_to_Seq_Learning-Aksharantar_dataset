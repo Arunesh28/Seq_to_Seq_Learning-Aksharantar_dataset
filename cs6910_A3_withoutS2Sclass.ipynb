{
  "cells": [
    {
      "cell_type": "code",
      "execution_count": 568,
      "metadata": {
        "id": "_XMtpZKWB6IS"
      },
      "outputs": [],
      "source": [
        "import numpy as np\n",
        "import pandas as pd\n",
        "import random\n",
        "import torch\n",
        "import torch.nn as nn\n",
        "import torch.optim as optim\n",
        "import torch.nn.functional as F\n",
        "import random\n",
        "import wandb\n",
        "\n",
        "device = torch.device(\"cuda\" if torch.cuda.is_available() else \"cpu\")"
      ]
    },
    {
      "cell_type": "code",
      "execution_count": 569,
      "metadata": {
        "colab": {
          "base_uri": "https://localhost:8080/"
        },
        "id": "-2XFj4FB_8QJ",
        "outputId": "249179fa-19ab-4e34-dc72-794016738e3b"
      },
      "outputs": [],
      "source": [
        "# from google.colab import drive\n",
        "# drive.mount('/content/gdrive')"
      ]
    },
    {
      "cell_type": "code",
      "execution_count": 570,
      "metadata": {
        "id": "BvtANBSb_-EJ"
      },
      "outputs": [],
      "source": [
        "# !unzip /content/gdrive/MyDrive/aksharantar_sampled.zip > /dev/null"
      ]
    },
    {
      "cell_type": "code",
      "execution_count": 571,
      "metadata": {
        "id": "RAtFonmF8mnI"
      },
      "outputs": [],
      "source": [
        "# USE_CUDA = False"
      ]
    },
    {
      "cell_type": "code",
      "execution_count": 572,
      "metadata": {},
      "outputs": [],
      "source": [
        "OUTPUT_LANGUAGE = 'mni'\n",
        "MAX_WORD_LENGTH = 25"
      ]
    },
    {
      "attachments": {},
      "cell_type": "markdown",
      "metadata": {
        "id": "RjJtGtexp-MH"
      },
      "source": [
        "## READING DATA"
      ]
    },
    {
      "cell_type": "code",
      "execution_count": 573,
      "metadata": {
        "id": "TO74AFzFpNvT"
      },
      "outputs": [],
      "source": [
        "'''\n",
        "Below train, validation and test data are list of strings\n",
        "'''\n",
        "train_data=pd.read_csv('aksharantar_sampled/'+OUTPUT_LANGUAGE+'/'+OUTPUT_LANGUAGE+'_train.csv',header=None)\n",
        "X_train = list(train_data[0])\n",
        "Y_train = list(train_data[1])\n",
        "\n",
        "validation_data=pd.read_csv('aksharantar_sampled/'+OUTPUT_LANGUAGE+'/'+OUTPUT_LANGUAGE+'_valid.csv',header=None)\n",
        "X_valid = list(validation_data[0])\n",
        "Y_valid = list(validation_data[1])\n",
        "\n",
        "test_data=pd.read_csv('aksharantar_sampled/'+OUTPUT_LANGUAGE+'/'+OUTPUT_LANGUAGE+'_test.csv',header=None)\n",
        "X_test = list(test_data[0])\n",
        "Y_test = list(test_data[1])"
      ]
    },
    {
      "cell_type": "code",
      "execution_count": 574,
      "metadata": {},
      "outputs": [],
      "source": [
        "SOS_token = 0\n",
        "EOS_token = 1\n",
        "\n",
        "class Lang:\n",
        "    def __init__(self, name):\n",
        "        self.name = name\n",
        "        self.chr2index = {}\n",
        "        self.chr2count = {}\n",
        "        # self.index2chr = {0: \"$\", 1: \"*\", 2: \"_\"}\n",
        "        self.index2chr = {0: \"$\", 1: \"*\"}\n",
        "        self.n_chrs = 2  # 3 if Count SOS and EOS and UNK\n",
        "\n",
        "    def addword(self, word):\n",
        "        for letter in word:\n",
        "            self.addchr(letter)\n",
        "\n",
        "    def addchr(self, chr_):\n",
        "        if chr_ not in self.chr2index:\n",
        "            self.chr2index[chr_] = self.n_chrs\n",
        "            self.chr2count[chr_] = 1\n",
        "            self.index2chr[self.n_chrs] = chr_\n",
        "            self.n_chrs += 1\n",
        "        else:\n",
        "            self.chr2count[chr_] += 1\n",
        "            \n",
        "    def add_word_list(self,word_lst):\n",
        "        for word in word_lst:\n",
        "            self.addword(word)"
      ]
    },
    {
      "cell_type": "code",
      "execution_count": 575,
      "metadata": {},
      "outputs": [],
      "source": [
        "inp_lang = Lang(\"eng\")\n",
        "inp_lang.add_word_list(X_train)\n",
        "\n",
        "out_lang = Lang(OUTPUT_LANGUAGE)\n",
        "out_lang.add_word_list(Y_train)\n"
      ]
    },
    {
      "attachments": {},
      "cell_type": "markdown",
      "metadata": {
        "id": "fCpYM7uh22Ir"
      },
      "source": [
        "## DATA PROCESSING"
      ]
    },
    {
      "cell_type": "code",
      "execution_count": 576,
      "metadata": {
        "id": "SrltDzm5mMwP"
      },
      "outputs": [],
      "source": [
        "\n",
        "def get_one_hot(char_dict,word,len_alphabets):\n",
        "  encoded_word = [char_dict[ch] for ch in word]\n",
        "  encoded_word.append(EOS_token)\n",
        "  encoded_word = torch.tensor(encoded_word,device = device)\n",
        "  return encoded_word\n",
        "\n",
        "def data_processing(data,char_dict,len_chrs):\n",
        "  ONE_HOT = []\n",
        "  for word in data :\n",
        "    encoded_word = get_one_hot(char_dict,word,len_chrs)\n",
        "    ONE_HOT.append(encoded_word)\n",
        "  return ONE_HOT\n"
      ]
    },
    {
      "cell_type": "code",
      "execution_count": 577,
      "metadata": {
        "id": "w_tzl6_FT23B"
      },
      "outputs": [],
      "source": [
        "INP_LANG_SIZE = inp_lang.n_chrs\n",
        "OUT_LANG_SIZE = out_lang.n_chrs\n",
        "# print(INP_LANG_SIZE)\n",
        "# print(OUT_LANG_SIZE)"
      ]
    },
    {
      "cell_type": "code",
      "execution_count": 578,
      "metadata": {
        "id": "fK9M6b07xDox"
      },
      "outputs": [],
      "source": [
        "# # These are lists of tensors corresponding to each word\n",
        "inp_train = data_processing(X_train,inp_lang.chr2index,len(inp_lang.chr2index))[:200]\n",
        "tgt_train = data_processing(Y_train,out_lang.chr2index,len(out_lang.chr2index))[:200]\n",
        "inp_valid = data_processing(X_valid,inp_lang.chr2index,len(inp_lang.chr2index))\n",
        "tgt_valid = data_processing(Y_valid,out_lang.chr2index,len(out_lang.chr2index))\n",
        "inp_test = data_processing(X_test,inp_lang.chr2index,len(inp_lang.chr2index))\n",
        "tgt_test = data_processing(Y_test,out_lang.chr2index,len(out_lang.chr2index))"
      ]
    },
    {
      "cell_type": "code",
      "execution_count": 579,
      "metadata": {
        "id": "khab_aFEdFgm"
      },
      "outputs": [],
      "source": [
        "# print(max([len(X_train[i]) for i in range(len(X_train))]))\n",
        "# print(max([len(X_test[i]) for i in range(len(X_test))]))\n",
        "# print(max([len(X_valid[i]) for i in range(len(X_valid))]))\n",
        "# print(max([len(Y_train[i]) for i in range(len(Y_train))]))\n",
        "# print(max([len(Y_test[i]) for i in range(len(Y_test))]))\n",
        "# print(max([len(Y_valid[i]) for i in range(len(Y_valid))]))"
      ]
    },
    {
      "attachments": {},
      "cell_type": "markdown",
      "metadata": {
        "id": "NYGk6k9B274a"
      },
      "source": [
        "## ENCODER"
      ]
    },
    {
      "cell_type": "code",
      "execution_count": 580,
      "metadata": {
        "id": "6WNDRGpjGs16"
      },
      "outputs": [],
      "source": [
        "class Encoder(nn.Module):\n",
        "    def __init__(self, input_size, embedding_size, hidden_layer_size, num_encoder_layers, cell_type, dropout_prob, bidirectional):\n",
        "      super(Encoder, self).__init__()\n",
        "      self.input_size = input_size\n",
        "      self.hidden_layer_size = hidden_layer_size\n",
        "      self.num_encoder_layers = num_encoder_layers\n",
        "      self.cell_type = cell_type\n",
        "\n",
        "      self.embedding = nn.Embedding(self.input_size, embedding_size)\n",
        "\n",
        "      if cell_type == 'RNN':\n",
        "        self.rnn = nn.RNN(input_size = embedding_size, hidden_size = hidden_layer_size, num_layers = num_encoder_layers, dropout = dropout_prob, bidirectional = bidirectional)\n",
        "      elif cell_type == 'LSTM':\n",
        "        self.rnn = nn.LSTM(input_size = embedding_size, hidden_size = hidden_layer_size, num_layers = num_encoder_layers, dropout = dropout_prob, bidirectional = bidirectional)\n",
        "      elif cell_type == 'GRU':\n",
        "        self.rnn = nn.GRU(input_size = embedding_size, hidden_size = hidden_layer_size, num_layers = num_encoder_layers, dropout = dropout_prob, bidirectional = bidirectional)\n",
        "      self.dropout = nn.Dropout(dropout_prob)\n",
        "      self.D = 1\n",
        "      if bidirectional == True :\n",
        "        self.D = 2\n",
        "\n",
        "    def forward(self, input, prev_hidden, prev_cell = None):\n",
        "      # seq_len = len(input)\n",
        "      embedded = self.embedding(input)\n",
        "      embedded = embedded.view(1,1,-1)\n",
        "      embedded = self.dropout(embedded)\n",
        "      if self.cell_type == 'RNN':\n",
        "        output, hidden = self.rnn(embedded,prev_hidden)\n",
        "        \n",
        "      elif self.cell_type == 'LSTM':\n",
        "        output, (hidden,cell) = self.rnn(embedded,(prev_hidden,prev_cell))\n",
        "        return output, (hidden,cell)\n",
        "      \n",
        "      elif self.cell_type == 'GRU':\n",
        "        output, hidden = self.rnn(embedded,prev_hidden)\n",
        "        \n",
        "      return output,hidden\n",
        "\n",
        "    def init_hidden(self):\n",
        "      \n",
        "      if self.cell_type == 'LSTM':\n",
        "        hidden = torch.zeros(self.D*self.num_encoder_layers,1,self.hidden_layer_size,device = device)\n",
        "        cell = torch.zeros(self.D*self.num_encoder_layers,1,self.hidden_layer_size,device = device)\n",
        "        return hidden,cell\n",
        "      else :\n",
        "        hidden = torch.zeros(self.D*self.num_encoder_layers,1,self.hidden_layer_size,device = device)\n",
        "      return hidden\n"
      ]
    },
    {
      "attachments": {},
      "cell_type": "markdown",
      "metadata": {
        "id": "5gjv22ej2-cB"
      },
      "source": [
        "## DECODER"
      ]
    },
    {
      "cell_type": "code",
      "execution_count": 581,
      "metadata": {
        "id": "afYWn2_zLtUn"
      },
      "outputs": [],
      "source": [
        "# class Decoder\n",
        "\n",
        "class Decoder(nn.Module):\n",
        "  def __init__(self, output_size, embedding_size, hidden_layer_size, num_layers, cell_type, dropout_prob, bidirectional):\n",
        "    super(Decoder, self).__init__()\n",
        "    '''\n",
        "      self.output_size : int\n",
        "      self.hidden_layer_size : int\n",
        "      self.num_encoder_layers : int\n",
        "      self.cell_type : string\n",
        "      self.rnn : RNN,LSTM,GRU \n",
        "    '''\n",
        "    self.output_size = output_size\n",
        "    self.hidden_layer_size = hidden_layer_size\n",
        "    self.num_layers = num_layers\n",
        "    self.cell_type = cell_type\n",
        "    self.embedding_size = embedding_size\n",
        "    self.embedding = nn.Embedding(OUT_LANG_SIZE, embedding_size)\n",
        "    self.D = 1\n",
        "    if bidirectional == True :\n",
        "      self.D = 2\n",
        "        \n",
        "    if cell_type == 'RNN':\n",
        "      self.rnn = nn.RNN(input_size = embedding_size, hidden_size = hidden_layer_size, num_layers = num_layers, dropout = dropout_prob, bidirectional = bidirectional)\n",
        "    elif cell_type == 'LSTM':\n",
        "      self.rnn = nn.LSTM(input_size = embedding_size, hidden_size = hidden_layer_size, num_layers = num_layers, dropout = dropout_prob, bidirectional = bidirectional)\n",
        "    elif cell_type == 'GRU':\n",
        "      self.rnn = nn.GRU(input_size = embedding_size, hidden_size = hidden_layer_size, num_layers = num_layers, dropout = dropout_prob, bidirectional = bidirectional)\n",
        "\n",
        "    self.dropout = nn.Dropout(dropout_prob)\n",
        "    self.fc = nn.Linear(self.D*hidden_layer_size, output_size)\n",
        "    self.softmax = nn.LogSoftmax(dim = 0)\n",
        "      \n",
        "  def forward(self, input, prev_hidden, prev_cell = None):\n",
        "    embedded = self.embedding(input)\n",
        "    embedded = embedded.view(1,1,-1)\n",
        "    embedded = F.relu(embedded)\n",
        "    embedded = self.dropout(embedded)\n",
        "    \n",
        "    if self.cell_type == 'RNN':\n",
        "      output, hidden = self.rnn(embedded,prev_hidden)\n",
        "      \n",
        "    elif self.cell_type == 'LSTM':\n",
        "      output,(hidden,cell) = self.rnn(embedded,(prev_hidden,prev_cell))\n",
        "    \n",
        "    elif self.cell_type == 'GRU':\n",
        "      output, hidden = self.rnn(embedded,prev_hidden)\n",
        "    # print(output.size())\n",
        "    output = self.fc(output[0][0])\n",
        "    y_pred = self.softmax(output)\n",
        "\n",
        "    if self.cell_type == 'LSTM':\n",
        "      return y_pred,(hidden,cell)\n",
        "    \n",
        "    return y_pred, hidden"
      ]
    },
    {
      "attachments": {},
      "cell_type": "markdown",
      "metadata": {
        "id": "SdVuHQkC3AEW"
      },
      "source": [
        "## SEQ2SEQ"
      ]
    },
    {
      "cell_type": "code",
      "execution_count": 582,
      "metadata": {
        "id": "K2kSt-oOLutP"
      },
      "outputs": [],
      "source": [
        "\n",
        "\n",
        "# class Seq2Seq(nn.Module):\n",
        "#   def __init__(self, encoder, decoder, learning_rate, clip = 5.0, teacher_forcing_ratio = 0.5):\n",
        "#     super(Seq2Seq, self).__init__()\n",
        "#     self.encoder = encoder\n",
        "#     self.decoder = decoder\n",
        "#     self.teacher_forcing_ratio = teacher_forcing_ratio\n",
        "#     self.encoder_optimizer = optim.Adam(self.encoder.parameters(), lr = learning_rate)\n",
        "#     self.decoder_optimizer = optim.Adam(self.decoder.parameters(), lr = learning_rate)\n",
        "#     self.encoder_optimizer.zero_grad()\n",
        "#     self.decoder_optimizer.zero_grad()\n",
        "#     self.criterion = nn.NLLLoss()\n",
        "#     self.clip = clip\n",
        "#     self.teacher_forcing_ratio = teacher_forcing_ratio\n",
        "#     # self.batch_size = batch_size\n",
        "      \n",
        "#   def forward(self, input, target):\n",
        "#     self.encoder_optimizer.zero_grad()\n",
        "#     self.decoder_optimizer.zero_grad()\n",
        "#     inp_len = input.size()[0]\n",
        "#     tgt_len = target.size()[0]\n",
        "#     loss = 0\n",
        "\n",
        "#     # Encoder\n",
        "#     encoder_outputs = torch.zeros(MAX_WORD_LENGTH,self.encoder.D*self.encoder.hidden_layer_size)\n",
        "#     if self.encoder.cell_type == 'LSTM':\n",
        "#       encoder_hidden,encoder_cell = self.encoder.init_hidden()\n",
        "#     else :\n",
        "#       encoder_hidden = self.encoder.init_hidden()\n",
        "    \n",
        "#     for ei in range(inp_len):\n",
        "#       if self.encoder.cell_type == 'LSTM':\n",
        "#         encoder_output,(encoder_hidden,encoder_cell) = self.encoder(input = input[i],prev_hidden = encoder_hidden,prev_cell = encoder_cell)\n",
        "#       else :\n",
        "#         encoder_output, encoder_hidden = self.encoder(input[ei],encoder_hidden)\n",
        "#       encoder_outputs[ei] = encoder_output[0][0]\n",
        "\n",
        "#     # Decoder\n",
        "#     decoder_input = torch.LongTensor([[SOS_token]])\n",
        "#     decoder_hidden = encoder_hidden\n",
        "    \n",
        "#     if self.decoder.cell_type == 'LSTM':\n",
        "#       decoder_cell = encoder_cell\n",
        "      \n",
        "#     # With Teacher Forcing\n",
        "#     use_teacher_forcing = random.random() < self.teacher_forcing_ratio\n",
        "#     # use_teacher_forcing = True\n",
        "#     if use_teacher_forcing:\n",
        "#       for i in range(tgt_len):\n",
        "#         # print(decoder_input.size(),decoder_hidden.size())\n",
        "#         if self.decoder.cell_type == 'LSTM':\n",
        "#           decoder_output,(decoder_hidden,decoder_cell) = self.decoder(input = decoder_input,prev_hidden = decoder_hidden,prev_cell = decoder_cell)\n",
        "#         else:\n",
        "#           decoder_output,decoder_hidden = self.decoder(decoder_input,decoder_hidden)\n",
        "#         # print(decoder_output.size(),target[i].size())\n",
        "#         loss += self.criterion(decoder_output[0],target[i])\n",
        "#         decoder_input = target[i]\n",
        "#     else :\n",
        "#       for i in range(tgt_len):\n",
        "#         # print(decoder_input.size(),decoder_hidden.size())\n",
        "#         if self.decoder.cell_type == 'LSTM':\n",
        "#           decoder_output,(decoder_hidden,decoder_cell) = self.decoder(input = decoder_input,prev_hidden = decoder_hidden,prev_cell = decoder_cell)\n",
        "#         else:\n",
        "#           decoder_output,decoder_hidden = self.decoder(decoder_input,decoder_hidden)\n",
        "#         # print(decoder_output.size(),target[i].size())\n",
        "#         loss += self.criterion(decoder_output[0],target[i])\n",
        "#         topv,topi = decoder_output[0].topk(1)\n",
        "#         ni = topi[0]\n",
        "#         decoder_input = torch.LongTensor([[ni]])\n",
        "#         if ni == EOS_token : \n",
        "#           break\n",
        "#     loss.backward()\n",
        "#     # torch.nn.utils.clip_grad_norm_(self.encoder.parameters(), self.clip)\n",
        "#     # torch.nn.utils.clip_grad_norm_(self.decoder.parameters(), self.clip)\n",
        "#     self.encoder_optimizer.step()\n",
        "#     self.decoder_optimizer.step()\n",
        "#     return loss/tgt_len\n",
        "\n",
        "#   def predict(self,input):\n",
        "#     with torch.no_grad():\n",
        "#       inp_len = input.size()[0]\n",
        "      \n",
        "#       # Encoder\n",
        "#       encoder_outputs = torch.zeros(MAX_WORD_LENGTH,self.encoder.D*self.encoder.hidden_layer_size)\n",
        "#       if self.encoder.cell_type == 'LSTM':\n",
        "#         encoder_hidden,encoder_cell = self.encoder.init_hidden()\n",
        "#       else :\n",
        "#         encoder_hidden = self.encoder.init_hidden()\n",
        "        \n",
        "#       for ei in range(inp_len):\n",
        "#         if self.encoder.cell_type == 'LSTM':\n",
        "#           encoder_output,(encoder_hidden,encoder_cell) = self.encoder(input = input[i],prev_hidden = encoder_hidden,prev_cell = encoder_cell)\n",
        "#         else :\n",
        "#           encoder_output, encoder_hidden = self.encoder(input[ei],encoder_hidden)\n",
        "#         encoder_outputs[ei] += encoder_output[0,0]\n",
        "        \n",
        "#       decoder_input = torch.LongTensor([[SOS_token]])\n",
        "#       decoder_hidden = encoder_hidden\n",
        "#       if self.decoder.cell_type == 'LSTM':\n",
        "#         decoder_cell = encoder_cell\n",
        "      \n",
        "#       decoded_words = []\n",
        "#       # decoder_outputs = []\n",
        "#       pred_word = ''\n",
        "#       for i in range(MAX_WORD_LENGTH):\n",
        "#         if self.decoder.cell_type == 'LSTM':\n",
        "#           decoder_output,(decoder_hidden,decoder_cell) = self.decoder(input = decoder_input,prev_hidden = decoder_hidden,prev_cell = decoder_cell)\n",
        "#         else:\n",
        "#           decoder_output,decoder_hidden = self.decoder(decoder_input,decoder_hidden)\n",
        "#         topv,topi = decoder_output[0].topk(1)\n",
        "#         ni = topi[0].item()\n",
        "#         decoder_input = torch.LongTensor([[ni]])\n",
        "#         decoded_words.append(ni)\n",
        "#         pred_word += out_lang.index2chr[ni]\n",
        "#         if ni == EOS_token : \n",
        "#           break\n",
        "        \n",
        "#       return (torch.LongTensor(decoded_words),pred_word)\n"
      ]
    },
    {
      "attachments": {},
      "cell_type": "markdown",
      "metadata": {},
      "source": [
        "## Train"
      ]
    },
    {
      "cell_type": "code",
      "execution_count": 583,
      "metadata": {},
      "outputs": [],
      "source": [
        "def train(input_tensor,target_tensor,encoder,decoder,encoder_optimizer,decoder_optimizer,criterion,teacher_forcing_ratio = 0.5):\n",
        "  \n",
        "    if encoder.cell_type == 'LSTM':\n",
        "      encoder_hidden,encoder_cell = encoder.init_hidden()\n",
        "    else :\n",
        "      encoder_hidden = encoder.init_hidden()\n",
        "      \n",
        "    encoder_optimizer.zero_grad()\n",
        "    decoder_optimizer.zero_grad()\n",
        "    \n",
        "    input_length = input_tensor.size(0)\n",
        "    target_length = target_tensor.size(0)\n",
        "    loss = 0\n",
        "\n",
        "    # Encoder\n",
        "    encoder_outputs = torch.zeros(MAX_WORD_LENGTH,encoder.D*encoder.hidden_layer_size,device=device)\n",
        "    \n",
        "    for ei in range(input_length):\n",
        "      if encoder.cell_type == 'LSTM':\n",
        "        encoder_output,(encoder_hidden,encoder_cell) = encoder(input = input_tensor[i],prev_hidden = encoder_hidden,prev_cell = encoder_cell)\n",
        "      else :\n",
        "        encoder_output, encoder_hidden = encoder(input_tensor[ei],encoder_hidden)\n",
        "      encoder_outputs[ei] = encoder_output[0,0]\n",
        "\n",
        "    # Decoder\n",
        "    decoder_input = torch.tensor([[SOS_token]],device=device)\n",
        "    decoder_hidden = encoder_hidden\n",
        "    \n",
        "    if decoder.cell_type == 'LSTM':\n",
        "      decoder_cell = encoder_cell\n",
        "      \n",
        "    # With Teacher Forcing\n",
        "    use_teacher_forcing = random.random() < teacher_forcing_ratio\n",
        "    if use_teacher_forcing:\n",
        "      for i in range(target_length):\n",
        "        if decoder.cell_type == 'LSTM':\n",
        "          decoder_output,(decoder_hidden,decoder_cell) = decoder(input = decoder_input,prev_hidden = decoder_hidden,prev_cell = decoder_cell)\n",
        "        else:\n",
        "          decoder_output,decoder_hidden = decoder(decoder_input,decoder_hidden)\n",
        "        loss += criterion(decoder_output,target_tensor[i])\n",
        "        decoder_input = target_tensor[i]\n",
        "    else :\n",
        "      for i in range(target_length):\n",
        "        if decoder.cell_type == 'LSTM':\n",
        "          decoder_output,(decoder_hidden,decoder_cell) = decoder(input = decoder_input,prev_hidden = decoder_hidden,prev_cell = decoder_cell)\n",
        "        else:\n",
        "          decoder_output,decoder_hidden = decoder(decoder_input,decoder_hidden)\n",
        "        topv,topi = decoder_output.topk(1)\n",
        "        ni = topi[0]\n",
        "        # decoder_input = torch.LongTensor([[ni]],device = device)\n",
        "        decoder_input = topi.squeeze().detach()\n",
        "        loss += criterion(decoder_output,target_tensor[i])\n",
        "        # print(decoder_input.item())\n",
        "        if ni.item() == EOS_token :\n",
        "          break\n",
        "    loss.backward()\n",
        "    # torch.nn.utils.clip_grad_norm_(encoder.parameters(), clip)\n",
        "    # torch.nn.utils.clip_grad_norm_(decoder.parameters(), clip)\n",
        "    encoder_optimizer.step()\n",
        "    decoder_optimizer.step()\n",
        "    return loss/target_length\n",
        "  \n",
        "def evaluate(encoder,decoder,input_word,max_length = MAX_WORD_LENGTH):\n",
        "  with torch.no_grad():\n",
        "    input_tensor = get_one_hot(inp_lang.chr2index,input_word,None)\n",
        "    input_length = input_tensor.size(0)\n",
        "    # target_length = target_tensor.size(0)\n",
        "    # loss = 0\n",
        "\n",
        "    # Encoder\n",
        "    encoder_outputs = torch.zeros(MAX_WORD_LENGTH,encoder.D*encoder.hidden_layer_size,device=device)\n",
        "    if encoder.cell_type == 'LSTM':\n",
        "      encoder_hidden,encoder_cell = encoder.init_hidden()\n",
        "    else :\n",
        "      encoder_hidden = encoder.init_hidden()\n",
        "    \n",
        "    for ei in range(input_length):\n",
        "      if encoder.cell_type == 'LSTM':\n",
        "        encoder_output,(encoder_hidden,encoder_cell) = encoder(input = input_tensor[i],prev_hidden = encoder_hidden,prev_cell = encoder_cell)\n",
        "      else :\n",
        "        encoder_output, encoder_hidden = encoder(input_tensor[ei],encoder_hidden)\n",
        "      encoder_outputs[ei] = encoder_output[0][0]\n",
        "\n",
        "    decoded_word = ''\n",
        "    # Decoder\n",
        "    decoder_input = torch.tensor([[SOS_token]],device=device)\n",
        "    decoder_hidden = encoder_hidden\n",
        "    \n",
        "    if decoder.cell_type == 'LSTM':\n",
        "      decoder_cell = encoder_cell\n",
        "      \n",
        "    # decoder_outputs = torch.zeros(MAX_WORD_LENGTH,decoder.D*decoder.hidden_layer_size,device=device)\n",
        "    for i in range(max_length):\n",
        "      if decoder.cell_type == 'LSTM':\n",
        "        decoder_output,(decoder_hidden,decoder_cell) = decoder(input = decoder_input,prev_hidden = decoder_hidden,prev_cell = decoder_cell)\n",
        "      else:\n",
        "        decoder_output,decoder_hidden = decoder(decoder_input,decoder_hidden)\n",
        "      topv,topi = decoder_output.topk(1)\n",
        "      ni = topi[0]\n",
        "      decoder_input = topi.squeeze().detach()\n",
        "      decoded_word += out_lang.index2chr[ni.item()]\n",
        "      if decoder_input.item() == EOS_token : \n",
        "        break\n",
        "    # torch.nn.utils.clip_grad_norm_(encoder.parameters(), clip)\n",
        "    # torch.nn.utils.clip_grad_norm_(decoder.parameters(), clip)\n",
        "\n",
        "    return decoded_word"
      ]
    },
    {
      "cell_type": "code",
      "execution_count": 584,
      "metadata": {
        "id": "OYxHfVnivOge"
      },
      "outputs": [],
      "source": [
        "\n",
        "def train_once(encoder,decoder,encoder_optimizer,decoder_optimizer,criterion):\n",
        "  # Trains once on the whole dataset\n",
        "  training_loss = 0\n",
        "  train_length = len(inp_train)\n",
        "  for i in range(train_length):\n",
        "    input_tensor = inp_train[i]\n",
        "    target_tensor = tgt_train[i]\n",
        "    loss = train(input_tensor,target_tensor,encoder,decoder,encoder_optimizer,decoder_optimizer,criterion)\n",
        "    training_loss += loss\n",
        "    if i%200 == 0:\n",
        "      print(i)  \n",
        "  return training_loss\n",
        "\n",
        "# def accuracy_score(pred,actual):\n",
        "#   # pred,actual : list of strings/words\n",
        "#   return np.sum(np.array(pred) == np.array(actual))/len(pred)\n",
        "\n",
        "# def eval_acc_loss(model):\n",
        "#   train_pred_ = [model.predict(i) for i in inp_train]\n",
        "#   valid_pred_ = [model.predict(i) for i in inp_valid]\n",
        "  \n",
        "#   train_pred = list(map(list, zip(*train_pred_)))[1]\n",
        "#   valid_pred = list(map(list, zip(*valid_pred_)))[1]\n",
        "  \n",
        "#   train_accuracy = accuracy_score(train_pred,Y_train)\n",
        "#   valid_accuracy = accuracy_score(valid_pred,Y_valid)\n",
        "#   return train_accuracy,valid_accuracy\n",
        "\n",
        "def train_all(encoder,decoder,epochs,learning_rate):\n",
        "  encoder_optimizer = optim.Adam(encoder.parameters(), lr = learning_rate)\n",
        "  decoder_optimizer = optim.Adam(decoder.parameters(), lr = learning_rate)\n",
        "  criterion = nn.NLLLoss()\n",
        "  for curr_epoch in range(epochs):\n",
        "    train_loss = train_once(encoder,decoder,encoder_optimizer,decoder_optimizer,criterion)\n",
        "    # train_accuracy,valid_accuracy,train_loss_,valid_loss = eval_acc_loss(model)\n",
        "    # print(\"Epoch : %d, Training Loss : %f, Training Accuracy : %f\" % (curr_epoch+1,train_loss,train_accuracy))\n",
        "    print(\"Epoch : %d, Training Loss : %f\" % (curr_epoch+1,train_loss))\n",
        "    \n",
        "#     # wandb.log({ \"training_accuracy\" : train_accuracy,\n",
        "#     #           \"validation_accuracy\" : valid_accuracy,\n",
        "#     #           \"training_loss\" : train_loss,\n",
        "#     #           \"validation_loss\" : valid_loss,\n",
        "#     #           \"epoch\" : curr_epoch+1})\n",
        "    \n",
        "def evaluateRandomly(encoder, decoder, n=10):\n",
        "  for i in range(100):\n",
        "    # index = random.randint(0,99)\n",
        "    index = i\n",
        "    # print('>', X_train[index])\n",
        "    # print('=', Y_train[index])\n",
        "    output_word = evaluate(encoder, decoder,X_train[index])\n",
        "    # print('<', output_word[:-1])\n",
        "    if(output_word[:-1] == Y_train[i]) : print(\"yes\")\n",
        "    # print('')\n"
      ]
    },
    {
      "attachments": {},
      "cell_type": "markdown",
      "metadata": {
        "id": "9H3ipiJ3-ETv"
      },
      "source": [
        "## Run"
      ]
    },
    {
      "cell_type": "code",
      "execution_count": 585,
      "metadata": {
        "id": "BSYSelQ7dG3y"
      },
      "outputs": [
        {
          "name": "stdout",
          "output_type": "stream",
          "text": [
            "0\n",
            "Epoch : 1, Training Loss : 583.357056\n",
            "0\n",
            "Epoch : 2, Training Loss : 567.511108\n",
            "0\n",
            "Epoch : 3, Training Loss : 554.176697\n",
            "0\n",
            "Epoch : 4, Training Loss : 511.480286\n",
            "0\n",
            "Epoch : 5, Training Loss : 499.416748\n",
            "0\n",
            "Epoch : 6, Training Loss : 490.108032\n",
            "0\n",
            "Epoch : 7, Training Loss : 473.805695\n",
            "0\n",
            "Epoch : 8, Training Loss : 464.582581\n",
            "0\n",
            "Epoch : 9, Training Loss : 447.580261\n",
            "0\n",
            "Epoch : 10, Training Loss : 442.710083\n"
          ]
        }
      ],
      "source": [
        "# define hyperparameters\n",
        "input_size = inp_lang.n_chrs\n",
        "embedding_size = 128\n",
        "output_size = out_lang.n_chrs\n",
        "hidden_layer_size = 32\n",
        "num_layers = 2\n",
        "cell_type = 'GRU'\n",
        "dropout_prob = 0.1\n",
        "learning_rate = 0.001\n",
        "bidirectional = False\n",
        "epochs = 10\n",
        "encoder = Encoder(input_size, embedding_size, hidden_layer_size, num_layers, cell_type, dropout_prob, bidirectional)\n",
        "decoder = Decoder(output_size, embedding_size, hidden_layer_size, num_layers, cell_type, dropout_prob, bidirectional)\n",
        "# encoder_optimizer = optim.Adam(encoder.parameters(), lr = learning_rate)\n",
        "# decoder_optimizer = optim.Adam(decoder.parameters(), lr = learning_rate)\n",
        "# criterion = nn.NLLLoss()\n",
        "# for curr_epoch in range(epochs):\n",
        "#     train_loss = train_once(encoder,decoder,encoder_optimizer,decoder_optimizer,criterion)\n",
        "#     print(\"Epoch : %d, Training Loss : %f\" % (curr_epoch+1,train_loss))\n",
        "train_all(encoder,decoder,epochs,learning_rate)\n",
        "\n",
        "\n"
      ]
    },
    {
      "cell_type": "code",
      "execution_count": 348,
      "metadata": {},
      "outputs": [],
      "source": [
        "evaluateRandomly(encoder,decoder)"
      ]
    },
    {
      "cell_type": "code",
      "execution_count": null,
      "metadata": {},
      "outputs": [],
      "source": [
        "def train_model():\n",
        "    config_defaults = {\n",
        "        \"embedding_size\" : ,\n",
        "        \"hidden_layer_size\" : ,\n",
        "        \"num_layers\" : ,\n",
        "        \"cell_type\" : ,\n",
        "        \"dropout_prob\" : ,\n",
        "        \"learning_rate\" : ,\n",
        "        \"bidirectional\" : ,\n",
        "    }\n",
        "    \n",
        "    wandb.init(config=config_defaults)\n",
        "    config = wandb.config\n",
        "    input_size = inp_lang.n_chrs\n",
        "    embedding_size = config.embedding_size\n",
        "    output_size = out_lang.n_chrs\n",
        "    hidden_layer_size = config.hidden_layer_size\n",
        "    num_layers = config.num_layers\n",
        "    cell_type = config.cell_type\n",
        "    dropout_prob = config.dropout_prob\n",
        "    learning_rate = config.learning_rate\n",
        "    bidirectional = config.birectional\n",
        "    epochs = config.epochs\n",
        "    encoder = Encoder(input_size, embedding_size, hidden_layer_size, num_layers, cell_type, dropout_prob, bidirectional)\n",
        "    decoder = Decoder(output_size, embedding_size, hidden_layer_size, num_layers, cell_type, dropout_prob, bidirectional)\n",
        "    # model = Seq2Seq(encoder,decoder,learning_rate)\n",
        "    train(model,epochs)\n",
        "    run_name = \"es_{}_hl_{}_nl_{}_ct_{}_dp_{}_lr_{}_bi_{}_ep_{}\".format(embedding_size,hidden_layer_size,num_layers,cell_type,dropout_prob,learning_rate,bidirectional,epochs)\n",
        "\n",
        "    \n",
        "    run_name = \"es_{}_hl_{}_nl_{}_ct_{}_dp_{}_lr_{}_bi_{}_ep_{}\".format(embedding_size,hidden_layer_size,num_layers,cell_type,dropout_prob,learning_rate,bidirectional,epochs)\n",
        "    wandb.run.name = run_name\n",
        "    wandb.run.save()\n",
        "    \n",
        "    \n",
        "    \n",
        "    "
      ]
    },
    {
      "cell_type": "code",
      "execution_count": null,
      "metadata": {
        "id": "0T7XAAVJAK6V"
      },
      "outputs": [],
      "source": [
        "sweep_config = {\n",
        "    # \"name\" : \"assignment_sweeps\",\n",
        "    \"method\" : \"bayes\",\n",
        "    \"metric\" :{\n",
        "        \"name\" : \"validation_accuracy\",\n",
        "        \"goal\" : \"maximize\"\n",
        "    },\n",
        "    \"parameters\" : {\n",
        "        \"embedding_size\" : {\n",
        "            \"values\" : [16,32,64,128]\n",
        "        },\n",
        "        \"num_layers\" : {\n",
        "            \"values\" : [1,2,3,4]\n",
        "        },\n",
        "        \"hidden_layer_size\" : {\n",
        "            \"values\" : [32,64,128]\n",
        "        },\n",
        "        \"learning_rate\" : {\n",
        "            \"values\" : [0.001,0.0001]\n",
        "        },\n",
        "        \"cell_type\" : {\n",
        "           \"values\" : ['RNN', 'LSTM', 'GRU'] \n",
        "        },\n",
        "        \"dropout\" : {\n",
        "            \"values\" : [0.1,0.2]\n",
        "        },\n",
        "        \"bidirectional \": {\n",
        "            \"values\" : [True,False]\n",
        "        }\n",
        "    }\n",
        "}\n",
        "\n"
      ]
    },
    {
      "cell_type": "code",
      "execution_count": null,
      "metadata": {},
      "outputs": [],
      "source": [
        "sweep_id = wandb.sweep(sweep_config,project=\"CS6910_Assignment_2\")\n",
        "wandb.agent(sweep_id = sweep_id,function = train_model,count = 25)"
      ]
    }
  ],
  "metadata": {
    "accelerator": "GPU",
    "colab": {
      "collapsed_sections": [
        "OsQc8sWA1V41"
      ],
      "gpuType": "T4",
      "provenance": []
    },
    "gpuClass": "standard",
    "kernelspec": {
      "display_name": "Python 3",
      "name": "python3"
    },
    "language_info": {
      "codemirror_mode": {
        "name": "ipython",
        "version": 3
      },
      "file_extension": ".py",
      "mimetype": "text/x-python",
      "name": "python",
      "nbconvert_exporter": "python",
      "pygments_lexer": "ipython3",
      "version": "3.8.10"
    }
  },
  "nbformat": 4,
  "nbformat_minor": 0
}
