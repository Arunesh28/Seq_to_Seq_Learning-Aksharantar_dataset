{
  "cells": [
    {
      "cell_type": "code",
      "execution_count": 4,
      "metadata": {
        "id": "i3TetufN47Gb"
      },
      "outputs": [],
      "source": [
        "# import os\n",
        "# os.environ[\"WANDB_MODE\"]=\"offline\""
      ]
    },
    {
      "cell_type": "code",
      "execution_count": 5,
      "metadata": {
        "id": "HLJZRN9p48xl"
      },
      "outputs": [],
      "source": [
        "# !pip install wandb"
      ]
    },
    {
      "cell_type": "code",
      "execution_count": 7,
      "metadata": {
        "id": "A0V7swMDge2T"
      },
      "outputs": [],
      "source": [
        "from __future__ import unicode_literals, print_function, division\n",
        "import unicodedata\n",
        "import numpy as np\n",
        "import pandas as pd\n",
        "from io import open\n",
        "import random\n",
        "import torch\n",
        "import torch.nn as nn\n",
        "from torch import optim\n",
        "import torch.nn.functional as F\n",
        "import random\n",
        "import wandb\n",
        "import re\n",
        "\n",
        "device = torch.device(\"cuda\" if torch.cuda.is_available() else \"cpu\")"
      ]
    },
    {
      "cell_type": "code",
      "execution_count": 8,
      "metadata": {
        "id": "nMnTW2xMPr7B"
      },
      "outputs": [],
      "source": [
        "# from google.colab import drive\n",
        "# drive.mount('/content/gdrive')\n",
        "# !unzip /content/gdrive/MyDrive/aksharantar_sampled.zip > /dev/null"
      ]
    },
    {
      "cell_type": "code",
      "execution_count": null,
      "metadata": {},
      "outputs": [],
      "source": [
        "wandb.login()"
      ]
    },
    {
      "attachments": {},
      "cell_type": "markdown",
      "metadata": {
        "id": "lavK1n1Oge2W"
      },
      "source": [
        "## DATA PROCESSING"
      ]
    },
    {
      "cell_type": "code",
      "execution_count": 9,
      "metadata": {
        "id": "Mquptlsbge2Y"
      },
      "outputs": [],
      "source": [
        "SOS_token = 0\n",
        "EOS_token = 1\n",
        "\n",
        "class Lang:\n",
        "    def __init__(self, name):\n",
        "        self.name = name\n",
        "        self.chr2index = {}\n",
        "        self.chr2count = {}\n",
        "        self.index2chr = {0: \"$\", 1: \"#\"}\n",
        "        self.n_chrs = 2 \n",
        "\n",
        "    def addword(self, word):\n",
        "        for ch in word:\n",
        "            self.addchr(ch)\n",
        "\n",
        "    def addchr(self, ch):\n",
        "        if ch not in self.chr2index:\n",
        "            self.chr2index[ch] = self.n_chrs\n",
        "            self.chr2count[ch] = 1\n",
        "            self.index2chr[self.n_chrs] = ch\n",
        "            self.n_chrs += 1\n",
        "        else:\n",
        "            self.chr2count[ch] += 1"
      ]
    },
    {
      "cell_type": "code",
      "execution_count": 10,
      "metadata": {
        "id": "XcFz1vOgge2Z"
      },
      "outputs": [],
      "source": [
        "MAX_LENGTH = 25\n",
        "# def unicodeToAscii(s):\n",
        "#     return ''.join(\n",
        "#         c for c in unicodedata.normalize('NFD', s)\n",
        "#         if unicodedata.category(c) != 'Mn'\n",
        "#     )\n",
        "\n",
        "\n",
        "# def normalizeString(s):\n",
        "#     s = unicodeToAscii(s.strip())\n",
        "#     s = re.sub(r\"([.!?])\", r\" \\1\", s)\n",
        "#     s = re.sub(r\"[^a-zA-Z.!?]+\", r\" \", s)\n",
        "#     return s"
      ]
    },
    {
      "cell_type": "code",
      "execution_count": 11,
      "metadata": {
        "id": "NRSbbLBoge2a"
      },
      "outputs": [],
      "source": [
        "\n",
        "def readLangs(lang1,lang2):\n",
        "    pairs = ()\n",
        "    for i in ['train','valid','test']:\n",
        "        fd = open('aksharantar_sampled/'+lang2+'/'+lang2+'_'+i+'.csv')\n",
        "        lines = fd.read().strip().split('\\n')\n",
        "        pairs += ([[s for s in l.split(',')] for l in lines],)\n",
        "    return pairs\n",
        "    "
      ]
    },
    {
      "cell_type": "code",
      "execution_count": 12,
      "metadata": {
        "id": "mux876u_ge2b"
      },
      "outputs": [],
      "source": [
        "OUTPUT_LANGUAGE = \"mni\"\n",
        "\n",
        "input_lang = Lang(\"eng\")\n",
        "output_lang = Lang(OUTPUT_LANGUAGE)\n",
        "train_pairs,valid_pairs,test_pairs = readLangs(\"eng\",OUTPUT_LANGUAGE)\n",
        "\n",
        "for pair in train_pairs:\n",
        "    input_lang.addword(pair[0])\n",
        "    output_lang.addword(pair[1])\n",
        "    "
      ]
    },
    {
      "cell_type": "code",
      "execution_count": 13,
      "metadata": {
        "id": "6XWx8NUtge2b"
      },
      "outputs": [],
      "source": [
        "def indexesFromWord(lang, word):\n",
        "    return [lang.chr2index[ch] for ch in word]\n",
        "\n",
        "\n",
        "def tensorFromWord(lang,word):\n",
        "    indexes = indexesFromWord(lang, word)\n",
        "    indexes.append(EOS_token)\n",
        "    return torch.tensor(indexes, dtype=torch.long, device=device).view(-1, 1)\n",
        "\n",
        "\n",
        "def tensorsFromPair(pair):\n",
        "    input_tensor = tensorFromWord(input_lang, pair[0])\n",
        "    target_tensor = tensorFromWord(output_lang, pair[1])\n",
        "    return (input_tensor, target_tensor)"
      ]
    },
    {
      "attachments": {},
      "cell_type": "markdown",
      "metadata": {
        "id": "HvezIgOBge2c"
      },
      "source": [
        "## ENCODER"
      ]
    },
    {
      "cell_type": "code",
      "execution_count": 14,
      "metadata": {
        "id": "4MsvJcX8ge2c"
      },
      "outputs": [],
      "source": [
        "class EncoderRNN(nn.Module):\n",
        "    def __init__(self, input_size, embedding_size, hidden_layer_size, num_encoder_layers, cell_type, dropout_prob, bidirectional):\n",
        "      super(EncoderRNN, self).__init__()\n",
        "      self.input_size = input_size\n",
        "      self.hidden_layer_size = hidden_layer_size\n",
        "      self.num_encoder_layers = num_encoder_layers\n",
        "      self.cell_type = cell_type\n",
        "\n",
        "      self.embedding = nn.Embedding(self.input_size, embedding_size)\n",
        "\n",
        "      if cell_type == 'RNN':\n",
        "        self.rnn = nn.RNN(input_size = embedding_size, hidden_size = hidden_layer_size, num_layers = num_encoder_layers, dropout = dropout_prob, bidirectional = bidirectional)\n",
        "      elif cell_type == 'LSTM':\n",
        "        self.rnn = nn.LSTM(input_size = embedding_size, hidden_size = hidden_layer_size, num_layers = num_encoder_layers, dropout = dropout_prob, bidirectional = bidirectional)\n",
        "      elif cell_type == 'GRU':\n",
        "        self.rnn = nn.GRU(input_size = embedding_size, hidden_size = hidden_layer_size, num_layers = num_encoder_layers, dropout = dropout_prob, bidirectional = bidirectional)\n",
        "      self.dropout = nn.Dropout(dropout_prob)\n",
        "      self.D = 1\n",
        "      if bidirectional == True :\n",
        "        self.D = 2\n",
        "\n",
        "    def forward(self, input_tensor, prev_hidden, prev_cell = None):\n",
        "      embedded = self.embedding(input_tensor).view(1,1,-1)\n",
        "      embedded = self.dropout(embedded)\n",
        "      if self.cell_type == 'RNN':\n",
        "        output, hidden = self.rnn(embedded,prev_hidden)\n",
        "      elif self.cell_type == 'LSTM':\n",
        "        output, (hidden,cell) = self.rnn(embedded,(prev_hidden,prev_cell))\n",
        "        return output, (hidden,cell)\n",
        "      elif self.cell_type == 'GRU':\n",
        "        output, hidden = self.rnn(embedded,prev_hidden)\n",
        "        \n",
        "      return output,hidden\n",
        "\n",
        "    def initHidden(self):\n",
        "      if self.cell_type == 'LSTM':\n",
        "        hidden = torch.zeros(self.D*self.num_encoder_layers,1,self.hidden_layer_size,device = device)\n",
        "        cell = torch.zeros(self.D*self.num_encoder_layers,1,self.hidden_layer_size,device = device)\n",
        "        return hidden,cell\n",
        "      else :\n",
        "        hidden = torch.zeros(self.D*self.num_encoder_layers,1,self.hidden_layer_size,device = device)\n",
        "      return hidden\n"
      ]
    },
    {
      "attachments": {},
      "cell_type": "markdown",
      "metadata": {
        "id": "7Cy6f0euge2d"
      },
      "source": [
        "## DECODER"
      ]
    },
    {
      "cell_type": "code",
      "execution_count": 15,
      "metadata": {
        "id": "GcAcqkiWge2e"
      },
      "outputs": [],
      "source": [
        "# # class Decoder\n",
        "\n",
        "# class DecoderRNN(nn.Module):\n",
        "#   def __init__(self, output_size, embedding_size, hidden_layer_size, num_decoder_layers, cell_type, dropout_prob, bidirectional):\n",
        "#     super(DecoderRNN, self).__init__()\n",
        "#     self.output_size = output_size\n",
        "#     self.hidden_layer_size = hidden_layer_size\n",
        "#     self.num_decoder_layers = num_decoder_layers\n",
        "#     self.cell_type = cell_type\n",
        "#     self.embedding_size = embedding_size\n",
        "#     self.embedding = nn.Embedding(output_size, embedding_size)\n",
        "   \n",
        "#     if cell_type == 'RNN':\n",
        "#       self.rnn = nn.RNN(input_size = embedding_size, hidden_size = hidden_layer_size, num_layers = num_decoder_layers, dropout = dropout_prob, bidirectional = bidirectional)\n",
        "#     elif cell_type == 'LSTM':\n",
        "#       self.rnn = nn.LSTM(input_size = embedding_size, hidden_size = hidden_layer_size, num_layers = num_decoder_layers, dropout = dropout_prob, bidirectional = bidirectional)\n",
        "#     elif cell_type == 'GRU':\n",
        "#       self.rnn = nn.GRU(input_size = embedding_size, hidden_size = hidden_layer_size, num_layers = num_decoder_layers, dropout = dropout_prob, bidirectional = bidirectional)\n",
        "      \n",
        "#     self.D = 1\n",
        "#     if bidirectional == True :\n",
        "#       self.D = 2\n",
        "      \n",
        "#     self.dropout = nn.Dropout(dropout_prob)\n",
        "#     self.out = nn.Linear(self.D*hidden_layer_size, output_size)\n",
        "#     self.softmax = nn.LogSoftmax(dim = 1)\n",
        "      \n",
        "#   def forward(self, input_tensor, prev_hidden, prev_cell = None):\n",
        "#     embedded = self.embedding(input_tensor).view(1,1,-1)\n",
        "#     embedded = F.relu(embedded)\n",
        "#     embedded = self.dropout(embedded)\n",
        "    \n",
        "#     if self.cell_type == 'RNN':\n",
        "#       output, hidden = self.rnn(embedded,prev_hidden)\n",
        "      \n",
        "#     elif self.cell_type == 'LSTM':\n",
        "#       output,(hidden,cell) = self.rnn(embedded,(prev_hidden,prev_cell))\n",
        "    \n",
        "#     elif self.cell_type == 'GRU':\n",
        "#       output, hidden = self.rnn(embedded,prev_hidden)\n",
        "\n",
        "#     output = self.softmax(self.out(output[0]))\n",
        "\n",
        "#     if self.cell_type == 'LSTM':\n",
        "#       return output,(hidden,cell)\n",
        "    \n",
        "#     return output, hidden"
      ]
    },
    {
      "attachments": {},
      "cell_type": "markdown",
      "metadata": {
        "id": "asxKDobS8Cgu"
      },
      "source": [
        "## Attention Decoder"
      ]
    },
    {
      "cell_type": "code",
      "execution_count": 16,
      "metadata": {
        "id": "07zDm-ARgyIb"
      },
      "outputs": [],
      "source": [
        "class AttnDecoderRNN(nn.Module):\n",
        "    def __init__(self, output_size, embedding_size, hidden_layer_size, num_decoder_layers, cell_type, dropout_prob, bidirectional, max_length = MAX_LENGTH):\n",
        "        super(AttnDecoderRNN, self).__init__()\n",
        "        self.output_size = output_size\n",
        "        self.hidden_layer_size = hidden_layer_size\n",
        "        self.num_decoder_layers = num_decoder_layers\n",
        "        self.cell_type = cell_type\n",
        "        self.embedding_size = embedding_size\n",
        "        self.max_length = max_length\n",
        "        self.embedding = nn.Embedding(output_size, embedding_size)\n",
        "        self.dropout = nn.Dropout(dropout_prob)\n",
        "        if bidirectional == True :\n",
        "          self.D = 2\n",
        "        else :\n",
        "          self.D = 1\n",
        "\n",
        "        self.attn = nn.Linear(self.hidden_layer_size + self.embedding_size, self.max_length)\n",
        "        self.attn_combine = nn.Linear(self.D*self.hidden_layer_size + self.embedding_size, self.embedding_size)\n",
        "        \n",
        "        if cell_type == 'RNN':\n",
        "          self.rnn = nn.RNN(input_size = embedding_size, hidden_size = hidden_layer_size, num_layers = num_decoder_layers, dropout = dropout_prob, bidirectional = bidirectional)\n",
        "        elif cell_type == 'LSTM':\n",
        "          self.rnn = nn.LSTM(input_size = embedding_size, hidden_size = hidden_layer_size, num_layers = num_decoder_layers, dropout = dropout_prob, bidirectional = bidirectional)\n",
        "        elif cell_type == 'GRU':\n",
        "          self.rnn = nn.GRU(input_size = embedding_size, hidden_size = hidden_layer_size, num_layers = num_decoder_layers, dropout = dropout_prob, bidirectional = bidirectional)\n",
        "\n",
        "        self.out = nn.Linear(self.D*self.hidden_layer_size, self.output_size)\n",
        "        self.softmax = nn.LogSoftmax(dim = 1)\n",
        "\n",
        "    def forward(self, input_tensor, prev_hidden, encoder_outputs, prev_cell = None):\n",
        "        embedded = self.embedding(input_tensor).view(1, 1, -1)\n",
        "        embedded = self.dropout(embedded)\n",
        "\n",
        "        attn_weights = F.softmax(self.attn(torch.cat((embedded[0], prev_hidden[0]), 1)), dim=1)\n",
        "        attn_applied = torch.bmm(attn_weights.unsqueeze(0), encoder_outputs.unsqueeze(0))\n",
        "\n",
        "        output = torch.cat((embedded[0], attn_applied[0]), 1)\n",
        "        output = self.attn_combine(output).unsqueeze(0)\n",
        "\n",
        "        output = F.relu(output)\n",
        "\n",
        "        if self.cell_type == 'RNN':\n",
        "          output, hidden = self.rnn(embedded,prev_hidden)\n",
        "          \n",
        "        elif self.cell_type == 'LSTM':\n",
        "          output,(hidden,cell) = self.rnn(embedded,(prev_hidden,prev_cell))\n",
        "        \n",
        "        elif self.cell_type == 'GRU':\n",
        "          output, hidden = self.rnn(embedded,prev_hidden)\n",
        "\n",
        "        output = self.softmax(self.out(output[0]))\n",
        "\n",
        "        if self.cell_type == 'LSTM':\n",
        "          return output, (hidden,cell), attn_weights\n",
        "\n",
        "        return output, hidden, attn_weights\n"
      ]
    },
    {
      "attachments": {},
      "cell_type": "markdown",
      "metadata": {
        "id": "Ad7E6--tQ6BL"
      },
      "source": [
        "## Train"
      ]
    },
    {
      "cell_type": "code",
      "execution_count": 17,
      "metadata": {
        "id": "nHjTt2VYge2e"
      },
      "outputs": [],
      "source": [
        "def train(input_tensor,target_tensor,encoder,decoder,encoder_optimizer,decoder_optimizer,criterion,max_length = MAX_LENGTH,teacher_forcing_ratio = 0.5):\n",
        "    \n",
        "    if encoder.cell_type == 'LSTM':\n",
        "      encoder_hidden,encoder_cell = encoder.initHidden()\n",
        "    else :\n",
        "      encoder_hidden = encoder.initHidden()\n",
        "    \n",
        "    encoder_optimizer.zero_grad()\n",
        "    decoder_optimizer.zero_grad()\n",
        "    \n",
        "    input_length = input_tensor.size(0)\n",
        "    target_length = target_tensor.size(0)\n",
        "    \n",
        "    encoder_outputs = torch.zeros(max_length, encoder.D*encoder.hidden_layer_size, device=device)\n",
        "    \n",
        "    loss = 0\n",
        "    \n",
        "    for ei in range(input_length):\n",
        "      if encoder.cell_type == 'LSTM':\n",
        "        encoder_output,(encoder_hidden,encoder_cell) = encoder(input_tensor = input_tensor[ei],prev_hidden = encoder_hidden,prev_cell = encoder_cell)\n",
        "      else :\n",
        "        encoder_output, encoder_hidden = encoder(input_tensor = input_tensor[ei], prev_hidden = encoder_hidden)\n",
        "      # print(encoder_output.size())\n",
        "      encoder_outputs[ei] = encoder_output[0][0]\n",
        "      \n",
        "    decoder_input = torch.tensor([[SOS_token]],device=device)\n",
        "    # decoder_outputs = torch.zeros(target_length)\n",
        "    decoder_hidden = encoder_hidden\n",
        "    if decoder.cell_type == 'LSTM':\n",
        "      decoder_cell = encoder_cell\n",
        "    \n",
        "    use_teacher_forcing = True if random.random() < teacher_forcing_ratio else False\n",
        "\n",
        "    if use_teacher_forcing :\n",
        "      for di in range(target_length):\n",
        "        if decoder.cell_type == 'LSTM':\n",
        "          decoder_output,(decoder_hidden,decoder_cell), decoder_attention = decoder(input_tensor = decoder_input,prev_hidden = decoder_hidden,encoder_outputs = encoder_outputs,prev_cell = decoder_cell)\n",
        "        else:\n",
        "          decoder_output, decoder_hidden, decoder_attention = decoder(input_tensor = decoder_input,prev_hidden = decoder_hidden,encoder_outputs = encoder_outputs)\n",
        "        loss += criterion(decoder_output, target_tensor[di])\n",
        "        decoder_input = target_tensor[di]\n",
        "\n",
        "    else :\n",
        "      for di in range(target_length):\n",
        "        if decoder.cell_type == 'LSTM':\n",
        "          decoder_output,(decoder_hidden,decoder_cell), decoder_attention = decoder(input_tensor = decoder_input,prev_hidden = decoder_hidden,encoder_outputs = encoder_outputs,prev_cell = decoder_cell)\n",
        "        else:\n",
        "          decoder_output, decoder_hidden, decoder_attention = decoder(input_tensor = decoder_input,prev_hidden = decoder_hidden,encoder_outputs = encoder_outputs)\n",
        "        topv, topi = decoder_output.topk(1)\n",
        "        decoder_input = topi.squeeze().detach()\n",
        "        loss += criterion(decoder_output, target_tensor[di])\n",
        "        if decoder_input.item() == EOS_token:\n",
        "          break\n",
        "    \n",
        "    loss.backward()\n",
        "    \n",
        "    encoder_optimizer.step()\n",
        "    decoder_optimizer.step()\n",
        "\n",
        "    return loss.item() / target_length\n",
        "        \n",
        "      "
      ]
    },
    {
      "cell_type": "code",
      "execution_count": 18,
      "metadata": {
        "id": "xZ4QDiNTge2f"
      },
      "outputs": [],
      "source": [
        "training_pairs = [tensorsFromPair(pair) for pair in train_pairs]\n",
        "def trainIters(encoder,decoder,encoder_optimizer,decoder_optimizer,criterion):\n",
        "    \n",
        "    training_loss = 0\n",
        "    it = 0\n",
        "    for pair in training_pairs:\n",
        "        input_tensor = pair[0]\n",
        "        target_tensor = pair[1]\n",
        "        loss = train(input_tensor,target_tensor,encoder,decoder,encoder_optimizer,decoder_optimizer,criterion)\n",
        "        training_loss += loss\n",
        "        if it % 200 == 0:\n",
        "            print(it,\"done\")\n",
        "        it += 1\n",
        "    return training_loss/len(training_pairs)"
      ]
    },
    {
      "attachments": {},
      "cell_type": "markdown",
      "metadata": {
        "id": "O3DCO3LlQysD"
      },
      "source": [
        "## Evaluate"
      ]
    },
    {
      "cell_type": "code",
      "execution_count": 19,
      "metadata": {
        "id": "CQBZC-N2ge2g"
      },
      "outputs": [],
      "source": [
        "def evaluate(encoder,decoder,word,target = None,criterion = None,max_length = MAX_LENGTH):\n",
        "    with torch.no_grad():\n",
        "        input_tensor = tensorFromWord(input_lang,word)\n",
        "        input_length = input_tensor.size()[0]\n",
        "        target_length = 0\n",
        "        if target != None:\n",
        "            target_tensor = tensorFromWord(output_lang,target)\n",
        "            target_length = target_tensor.size(0)\n",
        "        \n",
        "        loss = 0\n",
        "        \n",
        "        if encoder.cell_type == 'LSTM':\n",
        "            encoder_hidden,encoder_cell = encoder.initHidden()\n",
        "        else :\n",
        "            encoder_hidden = encoder.initHidden()\n",
        "            \n",
        "        encoder_outputs = torch.zeros(max_length,encoder.D*encoder.hidden_layer_size,device=device)\n",
        "        \n",
        "        for ei in range(input_length):\n",
        "            if encoder.cell_type == 'LSTM':\n",
        "                encoder_output,(encoder_hidden,encoder_cell) = encoder(input_tensor = input_tensor[ei],prev_hidden = encoder_hidden,prev_cell = encoder_cell)\n",
        "            else :\n",
        "                encoder_output, encoder_hidden = encoder(input_tensor[ei], encoder_hidden)\n",
        "            encoder_outputs[ei] += encoder_output[0, 0]\n",
        "        \n",
        "        decoder_input = torch.tensor([[SOS_token]],device=device)\n",
        "        decoder_hidden = encoder_hidden\n",
        "        if decoder.cell_type == 'LSTM':\n",
        "            decoder_cell = encoder_cell\n",
        "            \n",
        "        decoded_word = ''\n",
        "        \n",
        "\n",
        "        for di in range(max_length):\n",
        "            if decoder.cell_type == 'LSTM':\n",
        "              decoder_output,(decoder_hidden,decoder_cell), decoder_attention = decoder(input_tensor = decoder_input,prev_hidden = decoder_hidden,encoder_outputs = encoder_outputs,prev_cell = decoder_cell)\n",
        "            else:\n",
        "              decoder_output, decoder_hidden, decoder_attention = decoder(input_tensor = decoder_input,prev_hidden = decoder_hidden,encoder_outputs = encoder_outputs)\n",
        "            topv, topi = decoder_output.topk(1)\n",
        "            \n",
        "            if di<target_length:\n",
        "                loss += criterion(decoder_output,target_tensor[di])\n",
        "                \n",
        "            if topi.item() == EOS_token:\n",
        "                decoded_word += '#'\n",
        "                break\n",
        "            else :\n",
        "                decoded_word += output_lang.index2chr[topi.item()]\n",
        "                \n",
        "            decoder_input = topi.squeeze().detach()\n",
        "        \n",
        "        return decoded_word,loss\n",
        "            \n",
        "def evaluateRandomly(encoder,decoder,n=10):\n",
        "    for i in range(n):\n",
        "        pair = random.choice(train_pairs[:10])\n",
        "        print('>', pair[0])\n",
        "        print('=', pair[1])\n",
        "        output_word = evaluate(encoder, decoder, pair[0])\n",
        "        print('<', output_word)\n",
        "        print('')\n",
        "\n",
        "def eval_acc(encoder,decoder,pairs,criterion = None):\n",
        "    count = 0\n",
        "    tot_loss = 0\n",
        "    for pair in pairs:\n",
        "        pred_word,loss = evaluate(encoder,decoder,pair[0],target=pair[1],criterion=criterion)\n",
        "        tot_loss += loss\n",
        "        if pred_word[:-1] == pair[1] : count += 1\n",
        "    return float(count/len(pairs)),tot_loss\n",
        "\n",
        "def run(encoder,decoder,encoder_optimizer,decoder_optimizer,criterion,epochs):\n",
        "    for epoch in range(epochs): \n",
        "        train_loss = trainIters(encoder=encoder,decoder=decoder,encoder_optimizer=encoder_optimizer,decoder_optimizer=decoder_optimizer,criterion = criterion)\n",
        "        train_acc,_ = eval_acc(encoder,decoder,random.sample(train_pairs,1000),criterion)\n",
        "        valid_acc,valid_loss = eval_acc(encoder,decoder,valid_pairs,criterion)\n",
        "        print(\"Epoch : %d, Training Loss : %f, Training Accuracy : %f, Validation Loss = %f, Validation Accuracy : %f\" % (epoch+1,train_loss,train_acc,valid_loss,valid_acc)) \n",
        "    \n",
        "        "
      ]
    },
    {
      "attachments": {},
      "cell_type": "markdown",
      "metadata": {
        "id": "HbQCmJQ7ge2g"
      },
      "source": [
        "## Training "
      ]
    },
    {
      "cell_type": "code",
      "execution_count": 20,
      "metadata": {
        "id": "k7N9ZtOQge2h"
      },
      "outputs": [],
      "source": [
        "# input_size = input_lang.n_chrs\n",
        "# output_size = output_lang.n_chrs\n",
        "# embedding_size = 256\n",
        "# hidden_layer_size = 256\n",
        "# num_layers = 2\n",
        "# cell_type = 'LSTM'\n",
        "# dropout_prob = 0.2\n",
        "# learning_rate = 0.001\n",
        "# bidirectional = True\n",
        "# epochs = 15\n",
        "\n",
        "# encoder = EncoderRNN(input_size=input_size,embedding_size=embedding_size,hidden_layer_size=hidden_layer_size,num_encoder_layers=num_layers,cell_type=cell_type,dropout_prob=dropout_prob,bidirectional=bidirectional).to(device)\n",
        "# decoder = AttnDecoderRNN(output_size=output_size,embedding_size=embedding_size,hidden_layer_size=hidden_layer_size,num_decoder_layers=num_layers,cell_type=cell_type,dropout_prob=dropout_prob,bidirectional=bidirectional).to(device)\n",
        "# encoder_optimizer = optim.Adam(encoder.parameters(), lr=learning_rate)\n",
        "# decoder_optimizer = optim.Adam(decoder.parameters(), lr=learning_rate)\n",
        "# criterion = nn.NLLLoss()\n",
        "# run(encoder,decoder,encoder_optimizer,decoder_optimizer,criterion,epochs)"
      ]
    },
    {
      "cell_type": "code",
      "execution_count": 21,
      "metadata": {
        "id": "yJNYx9uH5Khg"
      },
      "outputs": [],
      "source": [
        "def train_model():\n",
        "    config_defaults = {\n",
        "        \"embedding_size\" : 128,\n",
        "        \"hidden_layer_size\" : 128,\n",
        "        \"num_layers\" : 2,\n",
        "        \"cell_type\" : 'GRU',\n",
        "        \"dropout_prob\" : 0.1,\n",
        "        \"learning_rate\" : 0.001,\n",
        "        \"bidirectional\" : False,\n",
        "        \"epochs\" : 10,\n",
        "    }\n",
        "    \n",
        "    wandb.init(config=config_defaults,dir='/home/arunesh/.local/lib/python3.8/site-packages')\n",
        "    config = wandb.config\n",
        "    input_size = input_lang.n_chrs\n",
        "    output_size = output_lang.n_chrs\n",
        "    embedding_size = config.embedding_size\n",
        "    hidden_layer_size = config.hidden_layer_size\n",
        "    num_layers = config.num_layers\n",
        "    cell_type = config.cell_type\n",
        "    dropout_prob = config.dropout_prob\n",
        "    learning_rate = config.learning_rate\n",
        "    bidirectional = config.bidirectional\n",
        "    epochs = config.epochs\n",
        "    hidden_layer_size = 128\n",
        "    # bidirectional = False\n",
        "    # num_layers = 2\n",
        "    encoder = EncoderRNN(input_size=input_size,embedding_size=embedding_size,hidden_layer_size=hidden_layer_size,num_encoder_layers=num_layers,cell_type=cell_type,dropout_prob=dropout_prob,bidirectional=bidirectional).to(device)\n",
        "    decoder = AttnDecoderRNN(output_size=output_size,embedding_size=embedding_size,hidden_layer_size=hidden_layer_size,num_decoder_layers=num_layers,cell_type=cell_type,dropout_prob=dropout_prob,bidirectional=bidirectional).to(device)\n",
        "    encoder_optimizer = optim.Adam(encoder.parameters(), lr=learning_rate)\n",
        "    decoder_optimizer = optim.Adam(decoder.parameters(), lr=learning_rate)\n",
        "    criterion = nn.NLLLoss()\n",
        "    \n",
        "    # num_layers = 3\n",
        "    \n",
        "    print(\"started\")\n",
        "    for epoch in range(epochs): \n",
        "        # train_loss = trainIters(encoder=encoder,decoder=decoder,encoder_optimizer=encoder_optimizer,decoder_optimizer=decoder_optimizer,criterion = criterion)\n",
        "        training_loss = 0\n",
        "        it = 0\n",
        "        for pair in training_pairs:\n",
        "            input_tensor = pair[0]\n",
        "            target_tensor = pair[1]\n",
        "            loss = train(input_tensor,target_tensor,encoder,decoder,encoder_optimizer,decoder_optimizer,criterion)\n",
        "            training_loss += loss\n",
        "            if it%200==0:\n",
        "                print(it,\"done\")\n",
        "            it += 1\n",
        "        train_loss = training_loss/len(training_pairs)\n",
        "        train_acc,_ = eval_acc(encoder,decoder,random.sample(train_pairs,1000),criterion)\n",
        "        valid_acc,valid_loss = eval_acc(encoder,decoder,valid_pairs,criterion)\n",
        "        print(\"Epoch : %d, Training Loss : %f, Training Accuracy : %f, Validation Loss = %f, Validation Accuracy : %f\" % (epoch+1,train_loss,train_acc,valid_loss,valid_acc)) \n",
        "        wandb.log({ \"training_accuracy\" : train_acc,\n",
        "                    \"validation_accuracy\" : valid_acc,\n",
        "                    \"training_loss\" : train_loss,\n",
        "                    \"validation_loss\" : valid_loss,\n",
        "                    \"epoch\" : epoch+1})\n",
        "        \n",
        "    run_name = \"es_{}_hl_{}_nl_{}_ct_{}_dp_{}_lr_{}_bi_{}_ep_{}\".format(embedding_size,hidden_layer_size,num_layers,cell_type,dropout_prob,learning_rate,bidirectional,epochs)\n",
        "    wandb.run.name = run_name\n",
        "    wandb.run.save()\n",
        "    "
      ]
    },
    {
      "cell_type": "code",
      "execution_count": 22,
      "metadata": {
        "id": "b4I8XcMv5TzR"
      },
      "outputs": [],
      "source": [
        "sweep_config = {\n",
        "    # \"name\" : \"assignment_sweeps\",\n",
        "    \"method\" : \"bayes\",\n",
        "    \"metric\" :{\n",
        "        \"name\" : \"validation_accuracy\",\n",
        "        \"goal\" : \"maximize\"\n",
        "    },\n",
        "    \"parameters\" : {\n",
        "        \"embedding_size\" : {\n",
        "            \"values\" : [128,256]\n",
        "        },\n",
        "        \"num_layers\" : {\n",
        "            \"values\" : [2,3,4]\n",
        "        },\n",
        "        \"hidden_layer_size\" : {\n",
        "            \"values\" : [128,256]\n",
        "        },\n",
        "        \"learning_rate\" : {\n",
        "            \"values\" : [5e-3,1e-3]\n",
        "        },\n",
        "        \"cell_type\" : {\n",
        "           \"values\" : ['LSTM', 'GRU'] \n",
        "        },\n",
        "        \"dropout\" : {\n",
        "            \"values\" : [0.1,0.2]\n",
        "        },\n",
        "        \"bidirectional\": {\n",
        "            \"values\" : [True,False]\n",
        "        },\n",
        "        \"epochs\": {\n",
        "            \"values\" : [10]\n",
        "        }\n",
        "    }\n",
        "}\n",
        "\n"
      ]
    },
    {
      "cell_type": "code",
      "execution_count": null,
      "metadata": {
        "colab": {
          "base_uri": "https://localhost:8080/",
          "height": 434
        },
        "id": "39rLroRk5Xo4",
        "outputId": "371bb34c-ab51-427d-ba23-e7a8f2fdfe72"
      },
      "outputs": [
        {
          "name": "stdout",
          "output_type": "stream",
          "text": [
            "Create sweep with ID: ux25fjjx\n",
            "Sweep URL: https://wandb.ai/arunesh2810/Assignment_3/sweeps/ux25fjjx\n"
          ]
        },
        {
          "name": "stderr",
          "output_type": "stream",
          "text": [
            "\u001b[34m\u001b[1mwandb\u001b[0m: Agent Starting Run: o91hbe8k with config:\n",
            "\u001b[34m\u001b[1mwandb\u001b[0m: \tbidirectional: False\n",
            "\u001b[34m\u001b[1mwandb\u001b[0m: \tcell_type: GRU\n",
            "\u001b[34m\u001b[1mwandb\u001b[0m: \tdropout: 0.2\n",
            "\u001b[34m\u001b[1mwandb\u001b[0m: \tembedding_size: 128\n",
            "\u001b[34m\u001b[1mwandb\u001b[0m: \tepochs: 10\n",
            "\u001b[34m\u001b[1mwandb\u001b[0m: \thidden_layer_size: 256\n",
            "\u001b[34m\u001b[1mwandb\u001b[0m: \tlearning_rate: 0.001\n",
            "\u001b[34m\u001b[1mwandb\u001b[0m: \tnum_layers: 4\n"
          ]
        },
        {
          "data": {
            "text/html": [
              "Tracking run with wandb version 0.15.3"
            ],
            "text/plain": [
              "<IPython.core.display.HTML object>"
            ]
          },
          "metadata": {},
          "output_type": "display_data"
        },
        {
          "data": {
            "text/html": [
              "W&B syncing is set to <code>`offline`<code> in this directory.  <br/>Run <code>`wandb online`<code> or set <code>WANDB_MODE=online<code> to enable cloud syncing."
            ],
            "text/plain": [
              "<IPython.core.display.HTML object>"
            ]
          },
          "metadata": {},
          "output_type": "display_data"
        },
        {
          "name": "stdout",
          "output_type": "stream",
          "text": [
            "started\n",
            "0 done\n",
            "200 done\n",
            "400 done\n",
            "600 done\n",
            "800 done\n",
            "1000 done\n",
            "1200 done\n",
            "1400 done\n",
            "1600 done\n"
          ]
        }
      ],
      "source": [
        "sweep_id = wandb.sweep(sweep_config,project=\"Assignment_3\",entity=\"arunesh2810\")\n",
        "wandb.agent(sweep_id = sweep_id,function = train_model,count = 25)"
      ]
    }
  ],
  "metadata": {
    "colab": {
      "provenance": []
    },
    "kernelspec": {
      "display_name": "Python 3",
      "language": "python",
      "name": "python3"
    },
    "language_info": {
      "codemirror_mode": {
        "name": "ipython",
        "version": 3
      },
      "file_extension": ".py",
      "mimetype": "text/x-python",
      "name": "python",
      "nbconvert_exporter": "python",
      "pygments_lexer": "ipython3",
      "version": "3.8.10"
    },
    "orig_nbformat": 4
  },
  "nbformat": 4,
  "nbformat_minor": 0
}
